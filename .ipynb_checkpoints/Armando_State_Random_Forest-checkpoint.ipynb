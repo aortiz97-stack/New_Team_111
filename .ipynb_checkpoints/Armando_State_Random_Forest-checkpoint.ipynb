{
 "cells": [
  {
   "cell_type": "markdown",
   "id": "67f64ff6",
   "metadata": {},
   "source": [
    "Source: https://towardsdatascience.com/random-forest-in-python-24d0893d51c0"
   ]
  },
  {
   "cell_type": "code",
   "execution_count": 199,
   "id": "c6f565be",
   "metadata": {},
   "outputs": [],
   "source": [
    "import pandas as pd\n",
    "import random\n",
    "import numpy as np\n",
    "from statsmodels.stats.outliers_influence import variance_inflation_factor\n",
    "from sklearn.model_selection import train_test_split\n",
    "from sklearn.ensemble import RandomForestRegressor\n",
    "from sklearn.impute import SimpleImputer\n",
    "from collections import defaultdict\n",
    "import missingno as msno"
   ]
  },
  {
   "cell_type": "code",
   "execution_count": 191,
   "id": "afc58bb1",
   "metadata": {},
   "outputs": [],
   "source": [
    "df = pd.read_csv(\"Data/county_data_clean.csv\").drop(columns=\"Unnamed: 0\")\n",
    "df = df[df.state_abbreviation!='US']"
   ]
  },
  {
   "cell_type": "code",
   "execution_count": 192,
   "id": "c2c7d0ab",
   "metadata": {},
   "outputs": [
    {
     "data": {
      "text/plain": [
       "(3193, 156)"
      ]
     },
     "execution_count": 192,
     "metadata": {},
     "output_type": "execute_result"
    }
   ],
   "source": [
    "df.shape"
   ]
  },
  {
   "cell_type": "code",
   "execution_count": 193,
   "id": "7ecd9edd",
   "metadata": {},
   "outputs": [
    {
     "data": {
      "text/plain": [
       "(3193, 76)"
      ]
     },
     "execution_count": 193,
     "metadata": {},
     "output_type": "execute_result"
    }
   ],
   "source": [
    "features_df = df.drop(['uninsured_adults', 'uninsured_children', 'county_fips_code',\n",
    "                   '5_digit_fips_code', 'name'], axis = 1)\n",
    "# Replacing missing value of uninsured with mean of uninsured\n",
    "features_df['uninsured'] = features_df.uninsured.replace([float(\"nan\")], features_df.uninsured.mean())\n",
    "\n",
    "for column in features_df.columns:\n",
    "    na_sum= (features_df[column].isna().sum())\n",
    "    column_size = (features_df[column].size)\n",
    "    #print(na_sum/column_size)\n",
    "    if (features_df[column].isna().sum()/features_df[column].size) > 0.25:\n",
    "        features_df = features_df.drop(columns=column)\n",
    "features_df.shape"
   ]
  },
  {
   "cell_type": "code",
   "execution_count": 194,
   "id": "5bddc0e3",
   "metadata": {},
   "outputs": [],
   "source": [
    "state_groupby = features_df.groupby('state_abbreviation').count()"
   ]
  },
  {
   "cell_type": "code",
   "execution_count": 195,
   "id": "29b47535",
   "metadata": {},
   "outputs": [
    {
     "name": "stdout",
     "output_type": "stream",
     "text": [
      "air_pollution__particulate_matter is not useful for AK: 0.0\n",
      "air_pollution__particulate_matter is not useful for HI: 0.0\n",
      "drinking_water_violations is not useful for HI: 0.0\n",
      "hiv_prevalence is not useful for ND: 0.24074074074074073\n",
      "hiv_prevalence is not useful for NE: 0.13829787234042554\n",
      "hiv_prevalence is not useful for SD: 0.014925373134328358\n",
      "children_eligible_for_free_or_reduced_price_lunch is not useful for DC: 0.0\n",
      "children_eligible_for_free_or_reduced_price_lunch is not useful for DE: 0.0\n",
      "children_eligible_for_free_or_reduced_price_lunch is not useful for MA: 0.0\n",
      "children_eligible_for_free_or_reduced_price_lunch is not useful for TN: 0.0\n"
     ]
    },
    {
     "data": {
      "text/plain": [
       "defaultdict(int,\n",
       "            {'state_fips_code': 0,\n",
       "             'premature_death': 0,\n",
       "             'poor_or_fair_health': 0,\n",
       "             'poor_physical_health_days': 0,\n",
       "             'poor_mental_health_days': 0,\n",
       "             'low_birthweight': 0,\n",
       "             'adult_smoking': 0,\n",
       "             'adult_obesity': 0,\n",
       "             'food_environment_index': 0,\n",
       "             'physical_inactivity': 0,\n",
       "             'access_to_exercise_opportunities': 0,\n",
       "             'excessive_drinking': 0,\n",
       "             'alcohol_impaired_driving_deaths': 0,\n",
       "             'sexually_transmitted_infections': 0,\n",
       "             'teen_births': 0,\n",
       "             'uninsured': 0,\n",
       "             'primary_care_physicians': 0,\n",
       "             'ratio_of_population_to_primary_care_physicians': 0,\n",
       "             'dentists': 0,\n",
       "             'ratio_of_population_to_dentists': 0,\n",
       "             'mental_health_providers': 0,\n",
       "             'ratio_of_population_to_mental_health_providers': 0,\n",
       "             'preventable_hospital_stays': 0,\n",
       "             'mammography_screening': 0,\n",
       "             'flu_vaccinations': 0,\n",
       "             'high_school_graduation': 0,\n",
       "             'some_college': 0,\n",
       "             'unemployment': 0,\n",
       "             'children_in_poverty': 0,\n",
       "             'children_in_poverty_hispanic': 0,\n",
       "             'children_in_poverty_white': 0,\n",
       "             'income_inequality': 0,\n",
       "             'children_in_single_parent_households': 0,\n",
       "             'social_associations': 0,\n",
       "             'violent_crime': 0,\n",
       "             'injury_deaths': 0,\n",
       "             'air_pollution__particulate_matter': 2,\n",
       "             'drinking_water_violations': 1,\n",
       "             'severe_housing_problems': 0,\n",
       "             'percentage_of_households_with_high_housing_costs': 0,\n",
       "             'percentage_of_households_with_overcrowding': 0,\n",
       "             'percentage_of_households_with_lack_of_kitchen_or_plumbing_facilities': 0,\n",
       "             'driving_alone_to_work': 0,\n",
       "             'long_commute__driving_alone': 0,\n",
       "             'life_expectancy': 0,\n",
       "             'premature_age_adjusted_mortality': 0,\n",
       "             'frequent_physical_distress': 0,\n",
       "             'frequent_mental_distress': 0,\n",
       "             'diabetes_prevalence': 0,\n",
       "             'hiv_prevalence': 3,\n",
       "             'food_insecurity': 0,\n",
       "             'limited_access_to_healthy_foods': 0,\n",
       "             'motor_vehicle_crash_deaths': 0,\n",
       "             'insufficient_sleep': 0,\n",
       "             'other_primary_care_providers': 0,\n",
       "             'ratio_of_population_to_primary_care_providers_other_than_physicians': 0,\n",
       "             'median_household_income': 0,\n",
       "             'median_household_income_hispanic': 0,\n",
       "             'median_household_income_white': 0,\n",
       "             'children_eligible_for_free_or_reduced_price_lunch': 4,\n",
       "             'residential_segregation__non_white_white': 0,\n",
       "             'homeownership': 0,\n",
       "             'severe_housing_cost_burden': 0,\n",
       "             'population': 0,\n",
       "             '%_below_18_years_of_age': 0,\n",
       "             '%_65_and_older': 0,\n",
       "             '%_non_hispanic_african_american': 0,\n",
       "             '%_american_indian_and_alaskan_native': 0,\n",
       "             '%_asian': 0,\n",
       "             '%_native_hawaiian_other_pacific_islander': 0,\n",
       "             '%_hispanic': 0,\n",
       "             '%_non_hispanic_white': 0,\n",
       "             '%_not_proficient_in_english': 0,\n",
       "             '%_females': 0,\n",
       "             '%_rural': 0})"
      ]
     },
     "execution_count": 195,
     "metadata": {},
     "output_type": "execute_result"
    }
   ],
   "source": [
    "state_groupby = features_df.groupby('state_abbreviation').count()\n",
    "null_count_dict = defaultdict(int)\n",
    "\n",
    "for column in state_groupby.columns:\n",
    "    null_count_dict[column] = 0\n",
    "    for state in state_groupby.index:\n",
    "        value = state_groupby.loc[state][column]\n",
    "        size = state_groupby.loc[state]['state_fips_code']\n",
    "        if (value/size) <= 0.25:\n",
    "            print(\"{0} is not useful for {1}: {2}\".format(column, state, str(value/size)))\n",
    "            null_count_dict[column] += 1\n",
    "            \n",
    "exclude_features = []\n",
    "for feature, null_count in null_count_dict.items():\n",
    "    if null_count > 13:\n",
    "        exclude_features.append(feature.strip(\"\"))\n",
    "\n",
    "null_count_dict"
   ]
  },
  {
   "cell_type": "code",
   "execution_count": 196,
   "id": "e0e10aea",
   "metadata": {},
   "outputs": [],
   "source": [
    "features_df = features_df.drop(columns = exclude_features)"
   ]
  },
  {
   "cell_type": "code",
   "execution_count": 197,
   "id": "99f61ba0",
   "metadata": {},
   "outputs": [
    {
     "data": {
      "text/plain": [
       "Index(['state_fips_code', 'state_abbreviation', 'premature_death',\n",
       "       'poor_or_fair_health', 'poor_physical_health_days',\n",
       "       'poor_mental_health_days', 'low_birthweight', 'adult_smoking',\n",
       "       'adult_obesity', 'food_environment_index', 'physical_inactivity',\n",
       "       'access_to_exercise_opportunities', 'excessive_drinking',\n",
       "       'alcohol_impaired_driving_deaths', 'sexually_transmitted_infections',\n",
       "       'teen_births', 'uninsured', 'primary_care_physicians',\n",
       "       'ratio_of_population_to_primary_care_physicians', 'dentists',\n",
       "       'ratio_of_population_to_dentists', 'mental_health_providers',\n",
       "       'ratio_of_population_to_mental_health_providers',\n",
       "       'preventable_hospital_stays', 'mammography_screening',\n",
       "       'flu_vaccinations', 'high_school_graduation', 'some_college',\n",
       "       'unemployment', 'children_in_poverty', 'children_in_poverty_hispanic',\n",
       "       'children_in_poverty_white', 'income_inequality',\n",
       "       'children_in_single_parent_households', 'social_associations',\n",
       "       'violent_crime', 'injury_deaths', 'air_pollution__particulate_matter',\n",
       "       'drinking_water_violations', 'severe_housing_problems',\n",
       "       'percentage_of_households_with_high_housing_costs',\n",
       "       'percentage_of_households_with_overcrowding',\n",
       "       'percentage_of_households_with_lack_of_kitchen_or_plumbing_facilities',\n",
       "       'driving_alone_to_work', 'long_commute__driving_alone',\n",
       "       'life_expectancy', 'premature_age_adjusted_mortality',\n",
       "       'frequent_physical_distress', 'frequent_mental_distress',\n",
       "       'diabetes_prevalence', 'hiv_prevalence', 'food_insecurity',\n",
       "       'limited_access_to_healthy_foods', 'motor_vehicle_crash_deaths',\n",
       "       'insufficient_sleep', 'other_primary_care_providers',\n",
       "       'ratio_of_population_to_primary_care_providers_other_than_physicians',\n",
       "       'median_household_income', 'median_household_income_hispanic',\n",
       "       'median_household_income_white',\n",
       "       'children_eligible_for_free_or_reduced_price_lunch',\n",
       "       'residential_segregation__non_white_white', 'homeownership',\n",
       "       'severe_housing_cost_burden', 'population', '%_below_18_years_of_age',\n",
       "       '%_65_and_older', '%_non_hispanic_african_american',\n",
       "       '%_american_indian_and_alaskan_native', '%_asian',\n",
       "       '%_native_hawaiian_other_pacific_islander', '%_hispanic',\n",
       "       '%_non_hispanic_white', '%_not_proficient_in_english', '%_females',\n",
       "       '%_rural'],\n",
       "      dtype='object')"
      ]
     },
     "execution_count": 197,
     "metadata": {},
     "output_type": "execute_result"
    }
   ],
   "source": [
    "features_df.columns"
   ]
  },
  {
   "cell_type": "code",
   "execution_count": 206,
   "id": "3bed4892",
   "metadata": {},
   "outputs": [],
   "source": [
    "features = features_df.drop(['uninsured','state_fips_code','state_abbreviation'], axis = 1)\n",
    "features_list = features.columns.to_list()\n",
    "imp = SimpleImputer()\n",
    "features = imp.fit_transform(features)\n",
    "\n",
    "labels = np.array(features_df['uninsured'])\n"
   ]
  },
  {
   "cell_type": "code",
   "execution_count": null,
   "id": "4313a920",
   "metadata": {},
   "outputs": [
    {
     "name": "stdout",
     "output_type": "stream",
     "text": [
      "entered\n",
      "entered again\n"
     ]
    }
   ],
   "source": [
    "# Computing Variance Inflation Factors\n",
    "sub_df = pd.DataFrame(data=features, columns=features_list)\n",
    "vif_data_copy = sub_df.copy()\n",
    "\n",
    "\n",
    "while not vif_data_copy.empty:\n",
    "    print(\"entered\")\n",
    "    interesting_vars = sub_df.columns.to_list()\n",
    "    X = sub_df[interesting_vars]\n",
    "\n",
    "    # VIF dataframe\n",
    "    print(\"entered again\")\n",
    "    vif_data = pd.DataFrame()\n",
    "    vif_data[\"feature\"] = X.columns\n",
    "\n",
    "    # calculating VIF for each feature\n",
    "    \n",
    "    vif_data[\"VIF\"] = [variance_inflation_factor(X.values, i)\n",
    "                              for i in range(len(X.columns))]\n",
    "\n",
    "    print(vif_data)\n",
    "\n",
    "    if float('inf') in vif_data[\"VIF\"].unique():\n",
    "        feature_list = vif_data[vif_data['VIF']==float(\"inf\")].feature.to_list()\n",
    "        sub_df = sub_df.drop(columns=feature_list[0])\n",
    "        vif_data_copy = vif_data[vif_data.feature!= feature_list[0]]\n",
    "    elif ~ vif_data[vif_data['VIF'] >= 5].empty:\n",
    "        feature_list = vif_data[vif_data['VIF']>= 5].feature.to_list()\n",
    "        sub_df = sub_df.drop(columns=feature_list[0])\n",
    "        vif_data_copy = vif_data[vif_data.feature!= feature_list[0]]\n",
    "    else:\n",
    "        vif_data_copy = pd.DataFrame()\n",
    "\n",
    "sub_df"
   ]
  },
  {
   "cell_type": "code",
   "execution_count": 186,
   "id": "8a9eed26",
   "metadata": {},
   "outputs": [],
   "source": [
    "train_features, test_features, train_labels, test_labels = train_test_split(features, labels, test_size = 0.20, random_state = 42)\n",
    "\n"
   ]
  },
  {
   "cell_type": "code",
   "execution_count": 187,
   "id": "51a8db10",
   "metadata": {},
   "outputs": [
    {
     "data": {
      "text/plain": [
       "RandomForestRegressor(random_state=42)"
      ]
     },
     "execution_count": 187,
     "metadata": {},
     "output_type": "execute_result"
    }
   ],
   "source": [
    "# Random forest regressor\n",
    "rf = RandomForestRegressor(n_estimators = 100, random_state = 42)\n",
    "rf.fit(train_features, train_labels)"
   ]
  },
  {
   "cell_type": "code",
   "execution_count": 188,
   "id": "1e851202",
   "metadata": {},
   "outputs": [
    {
     "name": "stdout",
     "output_type": "stream",
     "text": [
      "Mean Absolute Error: 0.02 percent.\n"
     ]
    }
   ],
   "source": [
    "# Use the forest's predict method on the test data\n",
    "predictions = rf.predict(test_features)\n",
    "# Calculate the absolute errors\n",
    "errors = abs(predictions - test_labels)\n",
    "# Print out the mean absolute error (mae)\n",
    "print('Mean Absolute Error:', round(np.mean(errors), 2), 'percent.')"
   ]
  },
  {
   "cell_type": "code",
   "execution_count": 189,
   "id": "f87d85f0",
   "metadata": {},
   "outputs": [
    {
     "name": "stdout",
     "output_type": "stream",
     "text": [
      "Accuracy: 80.95 %.\n"
     ]
    }
   ],
   "source": [
    "# Calculate mean absolute percentage error (MAPE)\n",
    "mape = 100 * (errors / test_labels)\n",
    "# Calculate and display accuracy\n",
    "accuracy = 100 - np.mean(mape)\n",
    "print('Accuracy:', round(accuracy, 2), '%.')"
   ]
  },
  {
   "cell_type": "code",
   "execution_count": null,
   "id": "754ce430",
   "metadata": {},
   "outputs": [],
   "source": []
  }
 ],
 "metadata": {
  "kernelspec": {
   "display_name": "Python 3",
   "language": "python",
   "name": "python3"
  },
  "language_info": {
   "codemirror_mode": {
    "name": "ipython",
    "version": 3
   },
   "file_extension": ".py",
   "mimetype": "text/x-python",
   "name": "python",
   "nbconvert_exporter": "python",
   "pygments_lexer": "ipython3",
   "version": "3.8.8"
  }
 },
 "nbformat": 4,
 "nbformat_minor": 5
}
