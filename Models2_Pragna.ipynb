{
 "cells": [
  {
   "cell_type": "code",
   "execution_count": 1,
   "metadata": {},
   "outputs": [],
   "source": [
    "import pandas as pd\n",
    "import numpy as np\n",
    "import seaborn as sns\n",
    "from sklearn.model_selection import train_test_split\n",
    "from sklearn.experimental import enable_iterative_imputer\n",
    "from sklearn.impute import IterativeImputer\n",
    "from sklearn import preprocessing\n",
    "import statsmodels.api as sm\n",
    "from matplotlib import pyplot as plt\n",
    "import statsmodels.formula.api as smf\n",
    "from sklearn.feature_selection import RFE\n",
    "from sklearn.ensemble import RandomForestRegressor\n",
    "import patsy\n",
    "%matplotlib inline"
   ]
  },
  {
   "cell_type": "code",
   "execution_count": 2,
   "metadata": {},
   "outputs": [],
   "source": [
    "pd.set_option(\"display.max_rows\", None, \"display.max_columns\", None)"
   ]
  },
  {
   "cell_type": "code",
   "execution_count": 3,
   "metadata": {},
   "outputs": [],
   "source": [
    "df = pd.read_csv(\"Data/county_data_clean.csv\")"
   ]
  },
  {
   "cell_type": "markdown",
   "metadata": {},
   "source": [
    "#### Dataframe for State and Counties"
   ]
  },
  {
   "cell_type": "code",
   "execution_count": 4,
   "metadata": {},
   "outputs": [],
   "source": [
    "df_states = df[df[\"county_fips_code\"] == 0] #Dataframe for states only\n",
    "df_counties = df[df[\"county_fips_code\"] != 0] #Dataframe for counties only"
   ]
  },
  {
   "cell_type": "code",
   "execution_count": 5,
   "metadata": {},
   "outputs": [],
   "source": [
    "df_counties = df_counties.set_index(\"name\")\n",
    "df_states = df_states.set_index(\"name\")"
   ]
  },
  {
   "cell_type": "code",
   "execution_count": 6,
   "metadata": {},
   "outputs": [],
   "source": [
    "df_counties = df_counties.drop([\"Unnamed: 0\"], axis=1)\n",
    "df_states = df_states.drop([\"Unnamed: 0\"], axis=1)"
   ]
  },
  {
   "cell_type": "code",
   "execution_count": 7,
   "metadata": {},
   "outputs": [],
   "source": [
    "df_counties[\"insured_adults_raw\"] = df_counties[\"adult_population_18_64\"] - df_counties[\"uninsured_adults_raw\"]"
   ]
  },
  {
   "cell_type": "markdown",
   "metadata": {},
   "source": [
    "# Logistic Regression"
   ]
  },
  {
   "cell_type": "markdown",
   "metadata": {},
   "source": [
    "#### Create dataframe with counties in IL only."
   ]
  },
  {
   "cell_type": "code",
   "execution_count": 8,
   "metadata": {},
   "outputs": [],
   "source": [
    "df_IL = df_counties[df_counties[\"state_abbreviation\"] == \"IL\"]"
   ]
  },
  {
   "cell_type": "markdown",
   "metadata": {},
   "source": [
    "#### Drop completely missing columns."
   ]
  },
  {
   "cell_type": "code",
   "execution_count": 9,
   "metadata": {},
   "outputs": [],
   "source": [
    "df_IL = df_IL.dropna(axis = 1, how = \"all\") "
   ]
  },
  {
   "cell_type": "markdown",
   "metadata": {},
   "source": [
    "####  Dropping geographic information that will not help with inference or prediction."
   ]
  },
  {
   "cell_type": "code",
   "execution_count": 10,
   "metadata": {},
   "outputs": [],
   "source": [
    "df_IL = df_IL.drop([\"state_fips_code\", \"state_abbreviation\", \"county_fips_code\", \"5_digit_fips_code\"], axis = 1)"
   ]
  },
  {
   "cell_type": "markdown",
   "metadata": {},
   "source": [
    "#### Dimensions of data"
   ]
  },
  {
   "cell_type": "code",
   "execution_count": 11,
   "metadata": {},
   "outputs": [
    {
     "data": {
      "text/plain": [
       "(102, 121)"
      ]
     },
     "execution_count": 11,
     "metadata": {},
     "output_type": "execute_result"
    }
   ],
   "source": [
    "df_IL.shape #102 counties, 118 columns"
   ]
  },
  {
   "cell_type": "markdown",
   "metadata": {},
   "source": [
    "#### Missing values by column."
   ]
  },
  {
   "cell_type": "code",
   "execution_count": 12,
   "metadata": {},
   "outputs": [
    {
     "data": {
      "text/plain": [
       "premature_death                                                         0.000000\n",
       "frequent_mental_distress                                                0.000000\n",
       "frequent_physical_distress                                              0.000000\n",
       "premature_age_adjusted_mortality                                        0.000000\n",
       "life_expectancy                                                         0.000000\n",
       "long_commute_driving_alone                                              0.000000\n",
       "p_rural                                                                 0.000000\n",
       "percentage_of_households_with_lack_of_kitchen_or_plumbing_facilities    0.000000\n",
       "percentage_of_households_with_overcrowding                              0.000000\n",
       "percentage_of_households_with_high_housing_costs                        0.000000\n",
       "severe_housing_problems                                                 0.000000\n",
       "drinking_water_violations                                               0.000000\n",
       "air_pollution_particulate_matter                                        0.000000\n",
       "injury_deaths                                                           0.000000\n",
       "social_associations                                                     0.000000\n",
       "children_in_single_parent_households                                    0.000000\n",
       "income_inequality                                                       0.000000\n",
       "children_in_poverty                                                     0.000000\n",
       "diabetes_prevalence                                                     0.000000\n",
       "food_insecurity                                                         0.000000\n",
       "insufficient_sleep                                                      0.000000\n",
       "uninsured_adults                                                        0.000000\n",
       "p_females                                                               0.000000\n",
       "p_not_proficient_in_english                                             0.000000\n",
       "p_non_hispanic_white                                                    0.000000\n",
       "p_hispanic                                                              0.000000\n",
       "p_native_hawaiian_other_pacific_islander                                0.000000\n",
       "p_asian                                                                 0.000000\n",
       "p_american_indian_and_alaskan_native                                    0.000000\n",
       "p_non_hispanic_african_american                                         0.000000\n",
       "unemployment                                                            0.000000\n",
       "p_65_and_older                                                          0.000000\n",
       "population                                                              0.000000\n",
       "severe_housing_cost_burden                                              0.000000\n",
       "homeownership                                                           0.000000\n",
       "children_eligible_for_free_or_reduced_price_lunch                       0.000000\n",
       "median_household_income                                                 0.000000\n",
       "uninsured_children                                                      0.000000\n",
       "adult_population_18_64                                                  0.000000\n",
       "uninsured_adults_raw                                                    0.000000\n",
       "p_below_18_years_of_age                                                 0.000000\n",
       "some_college                                                            0.000000\n",
       "driving_alone_to_work                                                   0.000000\n",
       "insured_adults_raw                                                      0.000000\n",
       "teen_births                                                             0.000000\n",
       "sexually_transmitted_infections                                         0.000000\n",
       "alcohol_impaired_driving_deaths                                         0.000000\n",
       "excessive_drinking                                                      0.000000\n",
       "preventable_hospital_stays                                              0.000000\n",
       "uninsured                                                               0.000000\n",
       "mammography_screening                                                   0.000000\n",
       "physical_inactivity                                                     0.000000\n",
       "access_to_exercise_opportunities                                        0.000000\n",
       "adult_obesity                                                           0.000000\n",
       "flu_vaccinations                                                        0.000000\n",
       "adult_smoking                                                           0.000000\n",
       "low_birthweight                                                         0.000000\n",
       "poor_mental_health_days                                                 0.000000\n",
       "poor_physical_health_days                                               0.000000\n",
       "poor_or_fair_health                                                     0.000000\n",
       "high_school_graduation                                                  0.000000\n",
       "food_environment_index                                                  0.009804\n",
       "ratio_of_population_to_primary_care_providers_other_than_physicians     0.009804\n",
       "other_primary_care_providers                                            0.009804\n",
       "limited_access_to_healthy_foods                                         0.009804\n",
       "ratio_of_population_to_dentists                                         0.049020\n",
       "dentists                                                                0.049020\n",
       "violent_crime                                                           0.058824\n",
       "motor_vehicle_crash_deaths                                              0.078431\n",
       "primary_care_physicians                                                 0.078431\n",
       "ratio_of_population_to_primary_care_physicians                          0.078431\n",
       "ratio_of_population_to_mental_health_providers                          0.078431\n",
       "mental_health_providers                                                 0.078431\n",
       "children_in_poverty_white                                               0.088235\n",
       "residential_segregation_non_white_white                                 0.098039\n",
       "children_in_poverty_hispanic                                            0.117647\n",
       "hiv_prevalence                                                          0.235294\n",
       "median_household_income_white                                           0.284314\n",
       "median_household_income_hispanic                                        0.343137\n",
       "child_mortality                                                         0.392157\n",
       "flu_vaccinations_white                                                  0.401961\n",
       "firearm_fatalities                                                      0.411765\n",
       "children_in_poverty_black                                               0.421569\n",
       "drug_overdose_deaths                                                    0.431373\n",
       "residential_segregation_black_white                                     0.441176\n",
       "flu_vaccinations_black                                                  0.490196\n",
       "flu_vaccinations_hispanic                                               0.500000\n",
       "median_household_income_black                                           0.509804\n",
       "teen_births_white                                                       0.519608\n",
       "mammography_screening_white                                             0.519608\n",
       "life_expectancy_white                                                   0.539216\n",
       "low_birthweight_white                                                   0.539216\n",
       "preventable_hospital_stays_white                                        0.578431\n",
       "mammography_screening_black                                             0.588235\n",
       "disconnected_youth                                                      0.588235\n",
       "teen_births_black                                                       0.607843\n",
       "driving_alone_to_work_white                                             0.607843\n",
       "teen_births_hispanic                                                    0.607843\n",
       "life_expectancy_black                                                   0.617647\n",
       "mammography_screening_hispanic                                          0.627451\n",
       "low_birthweight_hispanic                                                0.637255\n",
       "low_birthweight_black                                                   0.637255\n",
       "infant_mortality                                                        0.647059\n",
       "driving_alone_to_work_hispanic                                          0.647059\n",
       "premature_death_white                                                   0.647059\n",
       "premature_age_adjusted_mortality_white                                  0.647059\n",
       "life_expectancy_hispanic                                                0.666667\n",
       "preventable_hospital_stays_black                                        0.666667\n",
       "premature_death_black                                                   0.686275\n",
       "premature_age_adjusted_mortality_black                                  0.686275\n",
       "homicides                                                               0.686275\n",
       "driving_alone_to_work_black                                             0.705882\n",
       "preventable_hospital_stays_hispanic                                     0.715686\n",
       "child_mortality_white                                                   0.784314\n",
       "premature_death_hispanic                                                0.794118\n",
       "premature_age_adjusted_mortality_hispanic                               0.794118\n",
       "child_mortality_black                                                   0.813725\n",
       "infant_mortality_white                                                  0.833333\n",
       "infant_mortality_black                                                  0.843137\n",
       "child_mortality_hispanic                                                0.901961\n",
       "infant_mortality_hispanic                                               0.931373\n",
       "dtype: float64"
      ]
     },
     "execution_count": 12,
     "metadata": {},
     "output_type": "execute_result"
    }
   ],
   "source": [
    "df_IL.isna().mean().sort_values(ascending = True)"
   ]
  },
  {
   "cell_type": "code",
   "execution_count": 13,
   "metadata": {},
   "outputs": [],
   "source": [
    "df_IL = df_IL.drop([\"infant_mortality_hispanic\", \"infant_mortality_white\", \"infant_mortality_black\",\n",
    "                   \"child_mortality_hispanic\", \"child_mortality_white\", \"child_mortality_black\"], axis = 1)"
   ]
  },
  {
   "cell_type": "code",
   "execution_count": 14,
   "metadata": {},
   "outputs": [
    {
     "data": {
      "text/plain": [
       "premature_death                                                         0.000000\n",
       "frequent_mental_distress                                                0.000000\n",
       "frequent_physical_distress                                              0.000000\n",
       "premature_age_adjusted_mortality                                        0.000000\n",
       "life_expectancy                                                         0.000000\n",
       "long_commute_driving_alone                                              0.000000\n",
       "driving_alone_to_work                                                   0.000000\n",
       "percentage_of_households_with_lack_of_kitchen_or_plumbing_facilities    0.000000\n",
       "percentage_of_households_with_overcrowding                              0.000000\n",
       "p_rural                                                                 0.000000\n",
       "severe_housing_problems                                                 0.000000\n",
       "drinking_water_violations                                               0.000000\n",
       "air_pollution_particulate_matter                                        0.000000\n",
       "injury_deaths                                                           0.000000\n",
       "social_associations                                                     0.000000\n",
       "children_in_single_parent_households                                    0.000000\n",
       "income_inequality                                                       0.000000\n",
       "children_in_poverty                                                     0.000000\n",
       "diabetes_prevalence                                                     0.000000\n",
       "food_insecurity                                                         0.000000\n",
       "insufficient_sleep                                                      0.000000\n",
       "uninsured_adults                                                        0.000000\n",
       "p_females                                                               0.000000\n",
       "p_not_proficient_in_english                                             0.000000\n",
       "p_non_hispanic_white                                                    0.000000\n",
       "p_hispanic                                                              0.000000\n",
       "p_native_hawaiian_other_pacific_islander                                0.000000\n",
       "p_asian                                                                 0.000000\n",
       "p_american_indian_and_alaskan_native                                    0.000000\n",
       "p_non_hispanic_african_american                                         0.000000\n",
       "unemployment                                                            0.000000\n",
       "p_65_and_older                                                          0.000000\n",
       "population                                                              0.000000\n",
       "severe_housing_cost_burden                                              0.000000\n",
       "homeownership                                                           0.000000\n",
       "children_eligible_for_free_or_reduced_price_lunch                       0.000000\n",
       "median_household_income                                                 0.000000\n",
       "uninsured_children                                                      0.000000\n",
       "adult_population_18_64                                                  0.000000\n",
       "uninsured_adults_raw                                                    0.000000\n",
       "p_below_18_years_of_age                                                 0.000000\n",
       "some_college                                                            0.000000\n",
       "percentage_of_households_with_high_housing_costs                        0.000000\n",
       "insured_adults_raw                                                      0.000000\n",
       "excessive_drinking                                                      0.000000\n",
       "access_to_exercise_opportunities                                        0.000000\n",
       "teen_births                                                             0.000000\n",
       "uninsured                                                               0.000000\n",
       "preventable_hospital_stays                                              0.000000\n",
       "physical_inactivity                                                     0.000000\n",
       "alcohol_impaired_driving_deaths                                         0.000000\n",
       "mammography_screening                                                   0.000000\n",
       "adult_obesity                                                           0.000000\n",
       "sexually_transmitted_infections                                         0.000000\n",
       "adult_smoking                                                           0.000000\n",
       "low_birthweight                                                         0.000000\n",
       "flu_vaccinations                                                        0.000000\n",
       "high_school_graduation                                                  0.000000\n",
       "poor_mental_health_days                                                 0.000000\n",
       "poor_physical_health_days                                               0.000000\n",
       "poor_or_fair_health                                                     0.000000\n",
       "limited_access_to_healthy_foods                                         0.009804\n",
       "ratio_of_population_to_primary_care_providers_other_than_physicians     0.009804\n",
       "other_primary_care_providers                                            0.009804\n",
       "food_environment_index                                                  0.009804\n",
       "ratio_of_population_to_dentists                                         0.049020\n",
       "dentists                                                                0.049020\n",
       "violent_crime                                                           0.058824\n",
       "motor_vehicle_crash_deaths                                              0.078431\n",
       "ratio_of_population_to_mental_health_providers                          0.078431\n",
       "mental_health_providers                                                 0.078431\n",
       "ratio_of_population_to_primary_care_physicians                          0.078431\n",
       "primary_care_physicians                                                 0.078431\n",
       "children_in_poverty_white                                               0.088235\n",
       "residential_segregation_non_white_white                                 0.098039\n",
       "children_in_poverty_hispanic                                            0.117647\n",
       "hiv_prevalence                                                          0.235294\n",
       "median_household_income_white                                           0.284314\n",
       "median_household_income_hispanic                                        0.343137\n",
       "child_mortality                                                         0.392157\n",
       "flu_vaccinations_white                                                  0.401961\n",
       "firearm_fatalities                                                      0.411765\n",
       "children_in_poverty_black                                               0.421569\n",
       "drug_overdose_deaths                                                    0.431373\n",
       "residential_segregation_black_white                                     0.441176\n",
       "flu_vaccinations_black                                                  0.490196\n",
       "flu_vaccinations_hispanic                                               0.500000\n",
       "median_household_income_black                                           0.509804\n",
       "mammography_screening_white                                             0.519608\n",
       "teen_births_white                                                       0.519608\n",
       "low_birthweight_white                                                   0.539216\n",
       "life_expectancy_white                                                   0.539216\n",
       "preventable_hospital_stays_white                                        0.578431\n",
       "disconnected_youth                                                      0.588235\n",
       "mammography_screening_black                                             0.588235\n",
       "teen_births_hispanic                                                    0.607843\n",
       "driving_alone_to_work_white                                             0.607843\n",
       "teen_births_black                                                       0.607843\n",
       "life_expectancy_black                                                   0.617647\n",
       "mammography_screening_hispanic                                          0.627451\n",
       "low_birthweight_hispanic                                                0.637255\n",
       "low_birthweight_black                                                   0.637255\n",
       "driving_alone_to_work_hispanic                                          0.647059\n",
       "infant_mortality                                                        0.647059\n",
       "premature_age_adjusted_mortality_white                                  0.647059\n",
       "premature_death_white                                                   0.647059\n",
       "life_expectancy_hispanic                                                0.666667\n",
       "preventable_hospital_stays_black                                        0.666667\n",
       "homicides                                                               0.686275\n",
       "premature_death_black                                                   0.686275\n",
       "premature_age_adjusted_mortality_black                                  0.686275\n",
       "driving_alone_to_work_black                                             0.705882\n",
       "preventable_hospital_stays_hispanic                                     0.715686\n",
       "premature_age_adjusted_mortality_hispanic                               0.794118\n",
       "premature_death_hispanic                                                0.794118\n",
       "dtype: float64"
      ]
     },
     "execution_count": 14,
     "metadata": {},
     "output_type": "execute_result"
    }
   ],
   "source": [
    "df_IL.isna().mean().sort_values(ascending = True)"
   ]
  },
  {
   "cell_type": "markdown",
   "metadata": {},
   "source": [
    "#### Missing values by county."
   ]
  },
  {
   "cell_type": "code",
   "execution_count": 15,
   "metadata": {},
   "outputs": [
    {
     "data": {
      "text/plain": [
       "name\n",
       "Kane County           0.000000\n",
       "McHenry County        0.000000\n",
       "Peoria County         0.000000\n",
       "St. Clair County      0.000000\n",
       "Will County           0.000000\n",
       "Winnebago County      0.000000\n",
       "DuPage County         0.000000\n",
       "Lake County           0.000000\n",
       "DeKalb County         0.000000\n",
       "Champaign County      0.000000\n",
       "Vermilion County      0.000000\n",
       "Kankakee County       0.000000\n",
       "Rock Island County    0.000000\n",
       "Madison County        0.000000\n",
       "Cook County           0.000000\n",
       "Kendall County        0.008696\n",
       "McLean County         0.017391\n",
       "Knox County           0.017391\n",
       "La Salle County       0.017391\n",
       "Stephenson County     0.026087\n",
       "Sangamon County       0.026087\n",
       "Macon County          0.026087\n",
       "Jackson County        0.034783\n",
       "Williamson County     0.043478\n",
       "Jefferson County      0.060870\n",
       "Boone County          0.060870\n",
       "Marion County         0.069565\n",
       "Adams County          0.069565\n",
       "Whiteside County      0.069565\n",
       "Tazewell County       0.069565\n",
       "Coles County          0.095652\n",
       "Grundy County         0.095652\n",
       "Lee County            0.113043\n",
       "Morgan County         0.113043\n",
       "Randolph County       0.113043\n",
       "Ogle County           0.113043\n",
       "Henry County          0.130435\n",
       "Iroquois County       0.130435\n",
       "Livingston County     0.147826\n",
       "Bureau County         0.147826\n",
       "Alexander County      0.165217\n",
       "Saline County         0.173913\n",
       "Clinton County        0.191304\n",
       "Macoupin County       0.191304\n",
       "Pulaski County        0.208696\n",
       "McDonough County      0.208696\n",
       "Logan County          0.208696\n",
       "Franklin County       0.217391\n",
       "Cass County           0.217391\n",
       "Warren County         0.217391\n",
       "Perry County          0.217391\n",
       "Douglas County        0.217391\n",
       "Massac County         0.217391\n",
       "Effingham County      0.226087\n",
       "Christian County      0.243478\n",
       "Fulton County         0.252174\n",
       "Union County          0.269565\n",
       "Montgomery County     0.269565\n",
       "Woodford County       0.269565\n",
       "Jo Daviess County     0.269565\n",
       "Bond County           0.278261\n",
       "Lawrence County       0.278261\n",
       "Jersey County         0.286957\n",
       "Carroll County        0.286957\n",
       "De Witt County        0.295652\n",
       "White County          0.304348\n",
       "Wayne County          0.304348\n",
       "Crawford County       0.313043\n",
       "Clay County           0.313043\n",
       "Mercer County         0.313043\n",
       "Monroe County         0.313043\n",
       "Piatt County          0.313043\n",
       "Shelby County         0.313043\n",
       "Ford County           0.313043\n",
       "Clark County          0.321739\n",
       "Edgar County          0.321739\n",
       "Richland County       0.321739\n",
       "Fayette County        0.321739\n",
       "Washington County     0.321739\n",
       "Pike County           0.321739\n",
       "Johnson County        0.330435\n",
       "Wabash County         0.330435\n",
       "Hancock County        0.330435\n",
       "Moultrie County       0.330435\n",
       "Menard County         0.330435\n",
       "Greene County         0.339130\n",
       "Hardin County         0.339130\n",
       "Putnam County         0.339130\n",
       "Mason County          0.347826\n",
       "Marshall County       0.347826\n",
       "Jasper County         0.347826\n",
       "Stark County          0.365217\n",
       "Henderson County      0.373913\n",
       "Edwards County        0.373913\n",
       "Schuyler County       0.382609\n",
       "Calhoun County        0.382609\n",
       "Brown County          0.382609\n",
       "Cumberland County     0.382609\n",
       "Scott County          0.391304\n",
       "Gallatin County       0.391304\n",
       "Hamilton County       0.391304\n",
       "Pope County           0.408696\n",
       "dtype: float64"
      ]
     },
     "execution_count": 15,
     "metadata": {},
     "output_type": "execute_result"
    }
   ],
   "source": [
    "df_IL.isna().mean(axis = 1).sort_values(ascending = True)"
   ]
  },
  {
   "cell_type": "markdown",
   "metadata": {},
   "source": [
    "#### Labels and Features"
   ]
  },
  {
   "cell_type": "code",
   "execution_count": 16,
   "metadata": {},
   "outputs": [],
   "source": [
    "labels = df_IL[['uninsured_adults_raw','insured_adults_raw']]"
   ]
  },
  {
   "cell_type": "code",
   "execution_count": 17,
   "metadata": {},
   "outputs": [],
   "source": [
    "features = df_IL.drop([\"uninsured_adults\",  \n",
    "                      \"uninsured_children\", \n",
    "                      \"uninsured\",\n",
    "                      \"uninsured_adults_raw\",\n",
    "                      \"insured_adults_raw\",\n",
    "                      \"population\",\n",
    "                      \"adult_population_18_64\"], axis = 1)"
   ]
  },
  {
   "cell_type": "code",
   "execution_count": 18,
   "metadata": {},
   "outputs": [],
   "source": [
    "feature_list = list(features.columns) "
   ]
  },
  {
   "cell_type": "markdown",
   "metadata": {},
   "source": [
    "#### Splitting into train and test set"
   ]
  },
  {
   "cell_type": "code",
   "execution_count": 19,
   "metadata": {},
   "outputs": [],
   "source": [
    "train_features, test_features, train_labels, test_labels = train_test_split(features, labels, test_size = 0.3, random_state = 123)"
   ]
  },
  {
   "cell_type": "code",
   "execution_count": 20,
   "metadata": {},
   "outputs": [
    {
     "name": "stdout",
     "output_type": "stream",
     "text": [
      "Training Features Shape: (71, 108)\n",
      "Training Labels Shape: (71, 2)\n",
      "Testing Features Shape: (31, 108)\n",
      "Testing Labels Shape: (31, 2)\n"
     ]
    }
   ],
   "source": [
    "print('Training Features Shape:', train_features.shape)\n",
    "print('Training Labels Shape:', train_labels.shape)\n",
    "print('Testing Features Shape:', test_features.shape)\n",
    "print('Testing Labels Shape:', test_labels.shape)"
   ]
  },
  {
   "cell_type": "markdown",
   "metadata": {},
   "source": [
    "#### Imputing Missing Values"
   ]
  },
  {
   "cell_type": "code",
   "execution_count": 21,
   "metadata": {},
   "outputs": [
    {
     "name": "stderr",
     "output_type": "stream",
     "text": [
      "C:\\Users\\bhatt\\anaconda3\\lib\\site-packages\\sklearn\\impute\\_iterative.py:669: ConvergenceWarning: [IterativeImputer] Early stopping criterion not reached.\n",
      "  warnings.warn(\"[IterativeImputer] Early stopping criterion not\"\n"
     ]
    }
   ],
   "source": [
    "imp = IterativeImputer(max_iter=50, random_state=123)\n",
    "imp.fit(train_features)\n",
    "train_features = imp.transform(train_features)"
   ]
  },
  {
   "cell_type": "code",
   "execution_count": 22,
   "metadata": {},
   "outputs": [],
   "source": [
    "imp.fit(test_features)\n",
    "test_features = imp.transform(test_features)"
   ]
  },
  {
   "cell_type": "markdown",
   "metadata": {},
   "source": [
    "#### Standardizing Data"
   ]
  },
  {
   "cell_type": "code",
   "execution_count": 23,
   "metadata": {},
   "outputs": [],
   "source": [
    "scaler = preprocessing.StandardScaler()\n",
    "scaler.fit(train_features) \n",
    "train_features = scaler.transform(train_features)"
   ]
  },
  {
   "cell_type": "code",
   "execution_count": 24,
   "metadata": {},
   "outputs": [],
   "source": [
    "scaler.fit(test_features)\n",
    "test_features = scaler.transform(test_features)"
   ]
  },
  {
   "cell_type": "markdown",
   "metadata": {},
   "source": [
    "#### Recursive Feature Elimination"
   ]
  },
  {
   "cell_type": "code",
   "execution_count": 25,
   "metadata": {},
   "outputs": [],
   "source": [
    "rfe = RFE(estimator=RandomForestRegressor(), n_features_to_select=20)\n",
    "fit = rfe.fit(train_features, train_labels) "
   ]
  },
  {
   "cell_type": "code",
   "execution_count": 26,
   "metadata": {},
   "outputs": [
    {
     "name": "stdout",
     "output_type": "stream",
     "text": [
      "Num Features: 20\n",
      "Selected Features: [False False False False False False False False False False False False\n",
      " False False False  True False False False False False False  True False\n",
      " False  True  True False False False  True False False False False False\n",
      " False False False False False False False False False False False False\n",
      " False False  True False False  True False  True  True False False  True\n",
      " False False False False False False False False False False False False\n",
      " False False False False False  True False False False  True  True False\n",
      " False False False False False False False  True False False False False\n",
      "  True False False False False  True False  True  True  True False  True]\n",
      "Feature Ranking: [28 73  3 60 26 36 24 32 61 23 33 87  8 71 52  1 18  9  6 80 50 63  1 75\n",
      " 14  1  1 20 78 56  1 74 89 37 81 22 59 55 35  5 12 31 70 34 41 17 79  4\n",
      " 76 49  1 54 19  1 88  1  1  7 48  1 86 45 64 27 44 83 42 68 77 30 67 25\n",
      " 53 57 40 46 62  1 72 39 16  1  1 10 13 47 65 66 85  2 69  1 51 21 58 29\n",
      "  1 38 15 11 84  1 82  1  1  1 43  1]\n"
     ]
    }
   ],
   "source": [
    "print(\"Num Features: %s\" % (fit.n_features_))\n",
    "print(\"Selected Features: %s\" % (fit.support_))\n",
    "print(\"Feature Ranking: %s\" % (fit.ranking_))"
   ]
  },
  {
   "cell_type": "code",
   "execution_count": 27,
   "metadata": {},
   "outputs": [],
   "source": [
    "indices = [i for i, x in enumerate(fit.support_) if x]\n",
    "selected_features = pd.Series(feature_list)[indices]"
   ]
  },
  {
   "cell_type": "code",
   "execution_count": 28,
   "metadata": {},
   "outputs": [
    {
     "data": {
      "text/plain": [
       "array([[ 0.48698764,  1.61951695, -0.27542877, ..., -0.85696328,\n",
       "        -0.18841604, -0.75002853],\n",
       "       [-0.34415595, -0.06226702, -0.34335324, ...,  0.76563787,\n",
       "        -0.47526955,  0.70731397],\n",
       "       [-0.16859071, -0.86427192,  0.14567464, ..., -0.0865442 ,\n",
       "         1.0596419 , -0.16870017],\n",
       "       ...,\n",
       "       [ 1.60535245, -1.82589692,  0.7268753 , ..., -2.17098071,\n",
       "         1.63191647, -1.75270822],\n",
       "       [ 0.30048761, -0.12148035,  0.16745176, ...,  0.59604898,\n",
       "        -0.28285137, -0.46968588],\n",
       "       [ 0.63285422, -1.41651569,  2.09598387, ...,  0.79212293,\n",
       "        -0.39250046, -0.37930773]])"
      ]
     },
     "execution_count": 28,
     "metadata": {},
     "output_type": "execute_result"
    }
   ],
   "source": [
    "train_features[:, indices]"
   ]
  },
  {
   "cell_type": "markdown",
   "metadata": {},
   "source": [
    "#### Fitting Model"
   ]
  },
  {
   "cell_type": "code",
   "execution_count": 29,
   "metadata": {},
   "outputs": [],
   "source": [
    "train_set = pd.DataFrame(train_features[:, indices], columns = selected_features)\n",
    "train_labels2 = train_labels.reset_index(drop = True)\n",
    "train_set[\"uninsured_adults_raw\"] = train_labels2[\"uninsured_adults_raw\"]\n",
    "train_set[\"insured_adults_raw\"] = train_labels2[\"insured_adults_raw\"]"
   ]
  },
  {
   "cell_type": "code",
   "execution_count": 30,
   "metadata": {},
   "outputs": [
    {
     "data": {
      "text/html": [
       "<div>\n",
       "<style scoped>\n",
       "    .dataframe tbody tr th:only-of-type {\n",
       "        vertical-align: middle;\n",
       "    }\n",
       "\n",
       "    .dataframe tbody tr th {\n",
       "        vertical-align: top;\n",
       "    }\n",
       "\n",
       "    .dataframe thead th {\n",
       "        text-align: right;\n",
       "    }\n",
       "</style>\n",
       "<table border=\"1\" class=\"dataframe\">\n",
       "  <thead>\n",
       "    <tr style=\"text-align: right;\">\n",
       "      <th></th>\n",
       "      <th>access_to_exercise_opportunities</th>\n",
       "      <th>teen_births_white</th>\n",
       "      <th>dentists</th>\n",
       "      <th>ratio_of_population_to_dentists</th>\n",
       "      <th>preventable_hospital_stays_black</th>\n",
       "      <th>social_associations</th>\n",
       "      <th>air_pollution_particulate_matter</th>\n",
       "      <th>severe_housing_problems</th>\n",
       "      <th>percentage_of_households_with_high_housing_costs</th>\n",
       "      <th>driving_alone_to_work</th>\n",
       "      <th>hiv_prevalence</th>\n",
       "      <th>motor_vehicle_crash_deaths</th>\n",
       "      <th>insufficient_sleep</th>\n",
       "      <th>residential_segregation_black_white</th>\n",
       "      <th>severe_housing_cost_burden</th>\n",
       "      <th>p_asian</th>\n",
       "      <th>p_hispanic</th>\n",
       "      <th>p_non_hispanic_white</th>\n",
       "      <th>p_not_proficient_in_english</th>\n",
       "      <th>p_rural</th>\n",
       "      <th>uninsured_adults_raw</th>\n",
       "      <th>insured_adults_raw</th>\n",
       "    </tr>\n",
       "  </thead>\n",
       "  <tbody>\n",
       "    <tr>\n",
       "      <th>0</th>\n",
       "      <td>0.486988</td>\n",
       "      <td>1.619517</td>\n",
       "      <td>-0.275429</td>\n",
       "      <td>-0.176385</td>\n",
       "      <td>0.604274</td>\n",
       "      <td>-0.373190</td>\n",
       "      <td>0.100373</td>\n",
       "      <td>0.123037</td>\n",
       "      <td>0.260813</td>\n",
       "      <td>0.656348</td>\n",
       "      <td>0.874028</td>\n",
       "      <td>-0.562942</td>\n",
       "      <td>1.204883</td>\n",
       "      <td>1.044183</td>\n",
       "      <td>0.270783</td>\n",
       "      <td>-0.153712</td>\n",
       "      <td>-0.031995</td>\n",
       "      <td>-0.856963</td>\n",
       "      <td>-0.188416</td>\n",
       "      <td>-0.750029</td>\n",
       "      <td>3201.0</td>\n",
       "      <td>40117.0</td>\n",
       "    </tr>\n",
       "    <tr>\n",
       "      <th>1</th>\n",
       "      <td>-0.344156</td>\n",
       "      <td>-0.062267</td>\n",
       "      <td>-0.343353</td>\n",
       "      <td>-0.114615</td>\n",
       "      <td>-0.016164</td>\n",
       "      <td>0.170105</td>\n",
       "      <td>-1.139011</td>\n",
       "      <td>-1.247001</td>\n",
       "      <td>-1.171898</td>\n",
       "      <td>0.264623</td>\n",
       "      <td>-0.883192</td>\n",
       "      <td>0.285438</td>\n",
       "      <td>-0.860315</td>\n",
       "      <td>0.534353</td>\n",
       "      <td>-1.465502</td>\n",
       "      <td>-0.440697</td>\n",
       "      <td>-0.598189</td>\n",
       "      <td>0.765638</td>\n",
       "      <td>-0.475270</td>\n",
       "      <td>0.707314</td>\n",
       "      <td>651.0</td>\n",
       "      <td>9579.0</td>\n",
       "    </tr>\n",
       "    <tr>\n",
       "      <th>2</th>\n",
       "      <td>-0.168591</td>\n",
       "      <td>-0.864272</td>\n",
       "      <td>0.145675</td>\n",
       "      <td>-0.472336</td>\n",
       "      <td>0.439370</td>\n",
       "      <td>-0.389809</td>\n",
       "      <td>-0.054550</td>\n",
       "      <td>0.175235</td>\n",
       "      <td>0.239116</td>\n",
       "      <td>-0.316921</td>\n",
       "      <td>-0.439201</td>\n",
       "      <td>-0.579413</td>\n",
       "      <td>-0.882345</td>\n",
       "      <td>0.407563</td>\n",
       "      <td>0.559667</td>\n",
       "      <td>-0.342343</td>\n",
       "      <td>0.789188</td>\n",
       "      <td>-0.086544</td>\n",
       "      <td>1.059642</td>\n",
       "      <td>-0.168700</td>\n",
       "      <td>2097.0</td>\n",
       "      <td>28244.0</td>\n",
       "    </tr>\n",
       "    <tr>\n",
       "      <th>3</th>\n",
       "      <td>-2.670324</td>\n",
       "      <td>0.823270</td>\n",
       "      <td>-1.008085</td>\n",
       "      <td>0.933280</td>\n",
       "      <td>-0.249016</td>\n",
       "      <td>-0.179204</td>\n",
       "      <td>-1.448856</td>\n",
       "      <td>-1.033353</td>\n",
       "      <td>-0.937724</td>\n",
       "      <td>-0.279901</td>\n",
       "      <td>0.193976</td>\n",
       "      <td>1.173493</td>\n",
       "      <td>-0.605259</td>\n",
       "      <td>-0.769678</td>\n",
       "      <td>-0.783888</td>\n",
       "      <td>-0.582268</td>\n",
       "      <td>-0.632784</td>\n",
       "      <td>0.848488</td>\n",
       "      <td>-0.448817</td>\n",
       "      <td>1.772310</td>\n",
       "      <td>202.0</td>\n",
       "      <td>2796.0</td>\n",
       "    </tr>\n",
       "    <tr>\n",
       "      <th>4</th>\n",
       "      <td>0.109529</td>\n",
       "      <td>0.687532</td>\n",
       "      <td>-0.750091</td>\n",
       "      <td>0.394958</td>\n",
       "      <td>-0.254192</td>\n",
       "      <td>1.223346</td>\n",
       "      <td>0.255295</td>\n",
       "      <td>-0.490243</td>\n",
       "      <td>-0.848254</td>\n",
       "      <td>0.081057</td>\n",
       "      <td>-0.804703</td>\n",
       "      <td>0.187210</td>\n",
       "      <td>-0.014380</td>\n",
       "      <td>0.096348</td>\n",
       "      <td>-0.957578</td>\n",
       "      <td>-0.159077</td>\n",
       "      <td>-0.542876</td>\n",
       "      <td>0.670441</td>\n",
       "      <td>-0.397099</td>\n",
       "      <td>-0.301996</td>\n",
       "      <td>635.0</td>\n",
       "      <td>8431.0</td>\n",
       "    </tr>\n",
       "  </tbody>\n",
       "</table>\n",
       "</div>"
      ],
      "text/plain": [
       "   access_to_exercise_opportunities  teen_births_white  dentists  \\\n",
       "0                          0.486988           1.619517 -0.275429   \n",
       "1                         -0.344156          -0.062267 -0.343353   \n",
       "2                         -0.168591          -0.864272  0.145675   \n",
       "3                         -2.670324           0.823270 -1.008085   \n",
       "4                          0.109529           0.687532 -0.750091   \n",
       "\n",
       "   ratio_of_population_to_dentists  preventable_hospital_stays_black  \\\n",
       "0                        -0.176385                          0.604274   \n",
       "1                        -0.114615                         -0.016164   \n",
       "2                        -0.472336                          0.439370   \n",
       "3                         0.933280                         -0.249016   \n",
       "4                         0.394958                         -0.254192   \n",
       "\n",
       "   social_associations  air_pollution_particulate_matter  \\\n",
       "0            -0.373190                          0.100373   \n",
       "1             0.170105                         -1.139011   \n",
       "2            -0.389809                         -0.054550   \n",
       "3            -0.179204                         -1.448856   \n",
       "4             1.223346                          0.255295   \n",
       "\n",
       "   severe_housing_problems  percentage_of_households_with_high_housing_costs  \\\n",
       "0                 0.123037                                          0.260813   \n",
       "1                -1.247001                                         -1.171898   \n",
       "2                 0.175235                                          0.239116   \n",
       "3                -1.033353                                         -0.937724   \n",
       "4                -0.490243                                         -0.848254   \n",
       "\n",
       "   driving_alone_to_work  hiv_prevalence  motor_vehicle_crash_deaths  \\\n",
       "0               0.656348        0.874028                   -0.562942   \n",
       "1               0.264623       -0.883192                    0.285438   \n",
       "2              -0.316921       -0.439201                   -0.579413   \n",
       "3              -0.279901        0.193976                    1.173493   \n",
       "4               0.081057       -0.804703                    0.187210   \n",
       "\n",
       "   insufficient_sleep  residential_segregation_black_white  \\\n",
       "0            1.204883                             1.044183   \n",
       "1           -0.860315                             0.534353   \n",
       "2           -0.882345                             0.407563   \n",
       "3           -0.605259                            -0.769678   \n",
       "4           -0.014380                             0.096348   \n",
       "\n",
       "   severe_housing_cost_burden   p_asian  p_hispanic  p_non_hispanic_white  \\\n",
       "0                    0.270783 -0.153712   -0.031995             -0.856963   \n",
       "1                   -1.465502 -0.440697   -0.598189              0.765638   \n",
       "2                    0.559667 -0.342343    0.789188             -0.086544   \n",
       "3                   -0.783888 -0.582268   -0.632784              0.848488   \n",
       "4                   -0.957578 -0.159077   -0.542876              0.670441   \n",
       "\n",
       "   p_not_proficient_in_english   p_rural  uninsured_adults_raw  \\\n",
       "0                    -0.188416 -0.750029                3201.0   \n",
       "1                    -0.475270  0.707314                 651.0   \n",
       "2                     1.059642 -0.168700                2097.0   \n",
       "3                    -0.448817  1.772310                 202.0   \n",
       "4                    -0.397099 -0.301996                 635.0   \n",
       "\n",
       "   insured_adults_raw  \n",
       "0             40117.0  \n",
       "1              9579.0  \n",
       "2             28244.0  \n",
       "3              2796.0  \n",
       "4              8431.0  "
      ]
     },
     "execution_count": 30,
     "metadata": {},
     "output_type": "execute_result"
    }
   ],
   "source": [
    "train_set.head()"
   ]
  },
  {
   "cell_type": "code",
   "execution_count": 31,
   "metadata": {},
   "outputs": [],
   "source": [
    "def formula_from_cols(features):\n",
    "    return ' ~ ' + ' + '.join([col for col in features])"
   ]
  },
  {
   "cell_type": "code",
   "execution_count": 32,
   "metadata": {},
   "outputs": [],
   "source": [
    "glm_formula = 'uninsured_adults_raw + insured_adults_raw' + formula_from_cols(selected_features)"
   ]
  },
  {
   "cell_type": "code",
   "execution_count": 33,
   "metadata": {},
   "outputs": [
    {
     "data": {
      "text/plain": [
       "'uninsured_adults_raw + insured_adults_raw ~ access_to_exercise_opportunities + teen_births_white + dentists + ratio_of_population_to_dentists + preventable_hospital_stays_black + social_associations + air_pollution_particulate_matter + severe_housing_problems + percentage_of_households_with_high_housing_costs + driving_alone_to_work + hiv_prevalence + motor_vehicle_crash_deaths + insufficient_sleep + residential_segregation_black_white + severe_housing_cost_burden + p_asian + p_hispanic + p_non_hispanic_white + p_not_proficient_in_english + p_rural'"
      ]
     },
     "execution_count": 33,
     "metadata": {},
     "output_type": "execute_result"
    }
   ],
   "source": [
    "glm_formula"
   ]
  },
  {
   "cell_type": "code",
   "execution_count": 34,
   "metadata": {},
   "outputs": [],
   "source": [
    "binom_glm = smf.glm(formula = glm_formula, data = train_set, family = sm.families.Binomial())"
   ]
  },
  {
   "cell_type": "code",
   "execution_count": 35,
   "metadata": {},
   "outputs": [],
   "source": [
    "binom_results = binom_glm.fit()"
   ]
  },
  {
   "cell_type": "code",
   "execution_count": 36,
   "metadata": {
    "scrolled": true
   },
   "outputs": [
    {
     "data": {
      "text/html": [
       "<table class=\"simpletable\">\n",
       "<caption>Generalized Linear Model Regression Results</caption>\n",
       "<tr>\n",
       "  <th>Dep. Variable:</th>   <td>['uninsured_adults_raw', 'insured_adults_raw']</td> <th>  No. Observations:  </th>  <td>    71</td> \n",
       "</tr>\n",
       "<tr>\n",
       "  <th>Model:</th>                                 <td>GLM</td>                      <th>  Df Residuals:      </th>  <td>    50</td> \n",
       "</tr>\n",
       "<tr>\n",
       "  <th>Model Family:</th>                       <td>Binomial</td>                    <th>  Df Model:          </th>  <td>    20</td> \n",
       "</tr>\n",
       "<tr>\n",
       "  <th>Link Function:</th>                        <td>logit</td>                     <th>  Scale:             </th> <td>  1.0000</td>\n",
       "</tr>\n",
       "<tr>\n",
       "  <th>Method:</th>                               <td>IRLS</td>                      <th>  Log-Likelihood:    </th> <td> -859.89</td>\n",
       "</tr>\n",
       "<tr>\n",
       "  <th>Date:</th>                           <td>Fri, 30 Jul 2021</td>                <th>  Deviance:          </th> <td>  1084.7</td>\n",
       "</tr>\n",
       "<tr>\n",
       "  <th>Time:</th>                               <td>16:52:11</td>                    <th>  Pearson chi2:      </th> <td>1.10e+03</td>\n",
       "</tr>\n",
       "<tr>\n",
       "  <th>No. Iterations:</th>                         <td>6</td>                       <th>                     </th>     <td> </td>   \n",
       "</tr>\n",
       "<tr>\n",
       "  <th>Covariance Type:</th>                    <td>nonrobust</td>                   <th>                     </th>     <td> </td>   \n",
       "</tr>\n",
       "</table>\n",
       "<table class=\"simpletable\">\n",
       "<tr>\n",
       "                          <td></td>                            <th>coef</th>     <th>std err</th>      <th>z</th>      <th>P>|z|</th>  <th>[0.025</th>    <th>0.975]</th>  \n",
       "</tr>\n",
       "<tr>\n",
       "  <th>Intercept</th>                                        <td>   -2.5573</td> <td>    0.004</td> <td> -611.147</td> <td> 0.000</td> <td>   -2.565</td> <td>   -2.549</td>\n",
       "</tr>\n",
       "<tr>\n",
       "  <th>access_to_exercise_opportunities</th>                 <td>   -0.0040</td> <td>    0.009</td> <td>   -0.431</td> <td> 0.666</td> <td>   -0.022</td> <td>    0.014</td>\n",
       "</tr>\n",
       "<tr>\n",
       "  <th>teen_births_white</th>                                <td>    0.0854</td> <td>    0.007</td> <td>   13.085</td> <td> 0.000</td> <td>    0.073</td> <td>    0.098</td>\n",
       "</tr>\n",
       "<tr>\n",
       "  <th>dentists</th>                                         <td>   -0.0065</td> <td>    0.005</td> <td>   -1.256</td> <td> 0.209</td> <td>   -0.017</td> <td>    0.004</td>\n",
       "</tr>\n",
       "<tr>\n",
       "  <th>ratio_of_population_to_dentists</th>                  <td>   -0.0083</td> <td>    0.009</td> <td>   -0.959</td> <td> 0.337</td> <td>   -0.025</td> <td>    0.009</td>\n",
       "</tr>\n",
       "<tr>\n",
       "  <th>preventable_hospital_stays_black</th>                 <td>    0.0110</td> <td>    0.004</td> <td>    2.669</td> <td> 0.008</td> <td>    0.003</td> <td>    0.019</td>\n",
       "</tr>\n",
       "<tr>\n",
       "  <th>social_associations</th>                              <td>   -0.0115</td> <td>    0.007</td> <td>   -1.674</td> <td> 0.094</td> <td>   -0.025</td> <td>    0.002</td>\n",
       "</tr>\n",
       "<tr>\n",
       "  <th>air_pollution_particulate_matter</th>                 <td>   -0.0178</td> <td>    0.004</td> <td>   -4.619</td> <td> 0.000</td> <td>   -0.025</td> <td>   -0.010</td>\n",
       "</tr>\n",
       "<tr>\n",
       "  <th>severe_housing_problems</th>                          <td>    0.0887</td> <td>    0.021</td> <td>    4.174</td> <td> 0.000</td> <td>    0.047</td> <td>    0.130</td>\n",
       "</tr>\n",
       "<tr>\n",
       "  <th>percentage_of_households_with_high_housing_costs</th> <td>   -0.0267</td> <td>    0.023</td> <td>   -1.175</td> <td> 0.240</td> <td>   -0.071</td> <td>    0.018</td>\n",
       "</tr>\n",
       "<tr>\n",
       "  <th>driving_alone_to_work</th>                            <td>   -0.0448</td> <td>    0.005</td> <td>   -8.818</td> <td> 0.000</td> <td>   -0.055</td> <td>   -0.035</td>\n",
       "</tr>\n",
       "<tr>\n",
       "  <th>hiv_prevalence</th>                                   <td>   -0.0350</td> <td>    0.006</td> <td>   -6.265</td> <td> 0.000</td> <td>   -0.046</td> <td>   -0.024</td>\n",
       "</tr>\n",
       "<tr>\n",
       "  <th>motor_vehicle_crash_deaths</th>                       <td>    0.0138</td> <td>    0.007</td> <td>    2.108</td> <td> 0.035</td> <td>    0.001</td> <td>    0.027</td>\n",
       "</tr>\n",
       "<tr>\n",
       "  <th>insufficient_sleep</th>                               <td>    0.0416</td> <td>    0.006</td> <td>    7.087</td> <td> 0.000</td> <td>    0.030</td> <td>    0.053</td>\n",
       "</tr>\n",
       "<tr>\n",
       "  <th>residential_segregation_black_white</th>              <td>    0.0220</td> <td>    0.005</td> <td>    4.853</td> <td> 0.000</td> <td>    0.013</td> <td>    0.031</td>\n",
       "</tr>\n",
       "<tr>\n",
       "  <th>severe_housing_cost_burden</th>                       <td>    0.0189</td> <td>    0.011</td> <td>    1.711</td> <td> 0.087</td> <td>   -0.003</td> <td>    0.040</td>\n",
       "</tr>\n",
       "<tr>\n",
       "  <th>p_asian</th>                                          <td>   -0.0124</td> <td>    0.004</td> <td>   -2.861</td> <td> 0.004</td> <td>   -0.021</td> <td>   -0.004</td>\n",
       "</tr>\n",
       "<tr>\n",
       "  <th>p_hispanic</th>                                       <td>    0.0921</td> <td>    0.016</td> <td>    5.757</td> <td> 0.000</td> <td>    0.061</td> <td>    0.123</td>\n",
       "</tr>\n",
       "<tr>\n",
       "  <th>p_non_hispanic_white</th>                             <td>    0.0421</td> <td>    0.013</td> <td>    3.264</td> <td> 0.001</td> <td>    0.017</td> <td>    0.067</td>\n",
       "</tr>\n",
       "<tr>\n",
       "  <th>p_not_proficient_in_english</th>                      <td>    0.0786</td> <td>    0.014</td> <td>    5.420</td> <td> 0.000</td> <td>    0.050</td> <td>    0.107</td>\n",
       "</tr>\n",
       "<tr>\n",
       "  <th>p_rural</th>                                          <td>    0.0545</td> <td>    0.010</td> <td>    5.342</td> <td> 0.000</td> <td>    0.034</td> <td>    0.074</td>\n",
       "</tr>\n",
       "</table>"
      ],
      "text/plain": [
       "<class 'statsmodels.iolib.summary.Summary'>\n",
       "\"\"\"\n",
       "                               Generalized Linear Model Regression Results                                \n",
       "==========================================================================================================\n",
       "Dep. Variable:     ['uninsured_adults_raw', 'insured_adults_raw']   No. Observations:                   71\n",
       "Model:                                                        GLM   Df Residuals:                       50\n",
       "Model Family:                                            Binomial   Df Model:                           20\n",
       "Link Function:                                              logit   Scale:                          1.0000\n",
       "Method:                                                      IRLS   Log-Likelihood:                -859.89\n",
       "Date:                                            Fri, 30 Jul 2021   Deviance:                       1084.7\n",
       "Time:                                                    16:52:11   Pearson chi2:                 1.10e+03\n",
       "No. Iterations:                                                 6                                         \n",
       "Covariance Type:                                        nonrobust                                         \n",
       "====================================================================================================================\n",
       "                                                       coef    std err          z      P>|z|      [0.025      0.975]\n",
       "--------------------------------------------------------------------------------------------------------------------\n",
       "Intercept                                           -2.5573      0.004   -611.147      0.000      -2.565      -2.549\n",
       "access_to_exercise_opportunities                    -0.0040      0.009     -0.431      0.666      -0.022       0.014\n",
       "teen_births_white                                    0.0854      0.007     13.085      0.000       0.073       0.098\n",
       "dentists                                            -0.0065      0.005     -1.256      0.209      -0.017       0.004\n",
       "ratio_of_population_to_dentists                     -0.0083      0.009     -0.959      0.337      -0.025       0.009\n",
       "preventable_hospital_stays_black                     0.0110      0.004      2.669      0.008       0.003       0.019\n",
       "social_associations                                 -0.0115      0.007     -1.674      0.094      -0.025       0.002\n",
       "air_pollution_particulate_matter                    -0.0178      0.004     -4.619      0.000      -0.025      -0.010\n",
       "severe_housing_problems                              0.0887      0.021      4.174      0.000       0.047       0.130\n",
       "percentage_of_households_with_high_housing_costs    -0.0267      0.023     -1.175      0.240      -0.071       0.018\n",
       "driving_alone_to_work                               -0.0448      0.005     -8.818      0.000      -0.055      -0.035\n",
       "hiv_prevalence                                      -0.0350      0.006     -6.265      0.000      -0.046      -0.024\n",
       "motor_vehicle_crash_deaths                           0.0138      0.007      2.108      0.035       0.001       0.027\n",
       "insufficient_sleep                                   0.0416      0.006      7.087      0.000       0.030       0.053\n",
       "residential_segregation_black_white                  0.0220      0.005      4.853      0.000       0.013       0.031\n",
       "severe_housing_cost_burden                           0.0189      0.011      1.711      0.087      -0.003       0.040\n",
       "p_asian                                             -0.0124      0.004     -2.861      0.004      -0.021      -0.004\n",
       "p_hispanic                                           0.0921      0.016      5.757      0.000       0.061       0.123\n",
       "p_non_hispanic_white                                 0.0421      0.013      3.264      0.001       0.017       0.067\n",
       "p_not_proficient_in_english                          0.0786      0.014      5.420      0.000       0.050       0.107\n",
       "p_rural                                              0.0545      0.010      5.342      0.000       0.034       0.074\n",
       "====================================================================================================================\n",
       "\"\"\""
      ]
     },
     "execution_count": 36,
     "metadata": {},
     "output_type": "execute_result"
    }
   ],
   "source": [
    "binom_results.summary()"
   ]
  },
  {
   "cell_type": "code",
   "execution_count": 52,
   "metadata": {},
   "outputs": [],
   "source": [
    "actual = train_labels[\"uninsured_adults_raw\"] / ( train_labels[\"uninsured_adults_raw\"] +  train_labels[\"insured_adults_raw\"])"
   ]
  },
  {
   "cell_type": "code",
   "execution_count": 62,
   "metadata": {},
   "outputs": [
    {
     "data": {
      "text/plain": [
       "0     0.076764\n",
       "1     0.065131\n",
       "2     0.078986\n",
       "3     0.075311\n",
       "4     0.069362\n",
       "5     0.068102\n",
       "6     0.067407\n",
       "7     0.070578\n",
       "8     0.073114\n",
       "9     0.080740\n",
       "10    0.081517\n",
       "11    0.091900\n",
       "12    0.062179\n",
       "13    0.091711\n",
       "14    0.070571\n",
       "15    0.064474\n",
       "16    0.071729\n",
       "17    0.071373\n",
       "18    0.081047\n",
       "19    0.072647\n",
       "20    0.067197\n",
       "21    0.067023\n",
       "22    0.074953\n",
       "23    0.071650\n",
       "24    0.072844\n",
       "25    0.081035\n",
       "26    0.119668\n",
       "27    0.077807\n",
       "28    0.074051\n",
       "29    0.117946\n",
       "30    0.077894\n",
       "31    0.077907\n",
       "32    0.060540\n",
       "33    0.071064\n",
       "34    0.067078\n",
       "35    0.073396\n",
       "36    0.070867\n",
       "37    0.061588\n",
       "38    0.069005\n",
       "39    0.081217\n",
       "40    0.082526\n",
       "41    0.077793\n",
       "42    0.078587\n",
       "43    0.064663\n",
       "44    0.067855\n",
       "45    0.090275\n",
       "46    0.069983\n",
       "47    0.067435\n",
       "48    0.050717\n",
       "49    0.071392\n",
       "50    0.081438\n",
       "51    0.059413\n",
       "52    0.070141\n",
       "53    0.075274\n",
       "54    0.069702\n",
       "55    0.080682\n",
       "56    0.064973\n",
       "57    0.070007\n",
       "58    0.075100\n",
       "59    0.072758\n",
       "60    0.071187\n",
       "61    0.070452\n",
       "62    0.051417\n",
       "63    0.065799\n",
       "64    0.060076\n",
       "65    0.062569\n",
       "66    0.060972\n",
       "67    0.069211\n",
       "68    0.071877\n",
       "69    0.060974\n",
       "70    0.054172\n",
       "dtype: float64"
      ]
     },
     "execution_count": 62,
     "metadata": {},
     "output_type": "execute_result"
    }
   ],
   "source": [
    "binom_results.fittedvalues"
   ]
  },
  {
   "cell_type": "code",
   "execution_count": 63,
   "metadata": {},
   "outputs": [
    {
     "data": {
      "text/plain": [
       "name\n",
       "Vermilion County      0.073895\n",
       "Hancock County        0.063636\n",
       "Ogle County           0.069114\n",
       "Scott County          0.067378\n",
       "Richland County       0.070042\n",
       "White County          0.076002\n",
       "Williamson County     0.069870\n",
       "Mason County          0.073574\n",
       "Clay County           0.071102\n",
       "Douglas County        0.109656\n",
       "Union County          0.081977\n",
       "Iroquois County       0.085592\n",
       "Madison County        0.062856\n",
       "Alexander County      0.075041\n",
       "Pope County           0.082334\n",
       "Clark County          0.060823\n",
       "Wayne County          0.079743\n",
       "Coles County          0.081336\n",
       "McDonough County      0.076072\n",
       "Crawford County       0.068813\n",
       "Ford County           0.070380\n",
       "Lee County            0.062644\n",
       "Kankakee County       0.082676\n",
       "Calhoun County        0.063977\n",
       "Pike County           0.093814\n",
       "Greene County         0.075996\n",
       "Kane County           0.119893\n",
       "Warren County         0.092001\n",
       "Johnson County        0.068084\n",
       "Cook County           0.117878\n",
       "Stark County          0.064454\n",
       "DeKalb County         0.081740\n",
       "Clinton County        0.054572\n",
       "Edgar County          0.072596\n",
       "Christian County      0.071216\n",
       "Macoupin County       0.068256\n",
       "Perry County          0.068363\n",
       "Menard County         0.057282\n",
       "Moultrie County       0.085652\n",
       "Boone County          0.090003\n",
       "Jefferson County      0.070521\n",
       "Hardin County         0.079787\n",
       "Franklin County       0.083182\n",
       "Livingston County     0.066124\n",
       "Carroll County        0.078075\n",
       "Lake County           0.090814\n",
       "Marshall County       0.060499\n",
       "Washington County     0.061266\n",
       "Woodford County       0.052700\n",
       "Jasper County         0.073795\n",
       "Bond County           0.070806\n",
       "Montgomery County     0.072241\n",
       "McHenry County        0.066920\n",
       "La Salle County       0.071665\n",
       "Morgan County         0.058768\n",
       "Rock Island County    0.082508\n",
       "Henry County          0.066798\n",
       "Randolph County       0.060246\n",
       "Whiteside County      0.071270\n",
       "Fayette County        0.085161\n",
       "Kendall County        0.062896\n",
       "Hamilton County       0.069483\n",
       "Piatt County          0.053395\n",
       "Knox County           0.072057\n",
       "Shelby County         0.061435\n",
       "Macon County          0.069320\n",
       "Sangamon County       0.055435\n",
       "Cumberland County     0.071585\n",
       "Will County           0.072777\n",
       "Wabash County         0.072931\n",
       "Monroe County         0.045355\n",
       "dtype: float64"
      ]
     },
     "execution_count": 63,
     "metadata": {},
     "output_type": "execute_result"
    }
   ],
   "source": [
    "actual"
   ]
  },
  {
   "cell_type": "code",
   "execution_count": 61,
   "metadata": {},
   "outputs": [
    {
     "ename": "NameError",
     "evalue": "name 'mean' is not defined",
     "output_type": "error",
     "traceback": [
      "\u001b[1;31m---------------------------------------------------------------------------\u001b[0m",
      "\u001b[1;31mNameError\u001b[0m                                 Traceback (most recent call last)",
      "\u001b[1;32m<ipython-input-61-b35e4201a0b7>\u001b[0m in \u001b[0;36m<module>\u001b[1;34m\u001b[0m\n\u001b[1;32m----> 1\u001b[1;33m \u001b[0mmean\u001b[0m\u001b[1;33m(\u001b[0m\u001b[0merrors\u001b[0m\u001b[1;33m)\u001b[0m\u001b[1;33m\u001b[0m\u001b[1;33m\u001b[0m\u001b[0m\n\u001b[0m",
      "\u001b[1;31mNameError\u001b[0m: name 'mean' is not defined"
     ]
    }
   ],
   "source": []
  }
 ],
 "metadata": {
  "kernelspec": {
   "display_name": "Python 3",
   "language": "python",
   "name": "python3"
  },
  "language_info": {
   "codemirror_mode": {
    "name": "ipython",
    "version": 3
   },
   "file_extension": ".py",
   "mimetype": "text/x-python",
   "name": "python",
   "nbconvert_exporter": "python",
   "pygments_lexer": "ipython3",
   "version": "3.8.3"
  }
 },
 "nbformat": 4,
 "nbformat_minor": 4
}
