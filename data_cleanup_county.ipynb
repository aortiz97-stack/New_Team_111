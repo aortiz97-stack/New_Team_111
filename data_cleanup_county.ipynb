{
 "cells": [
  {
   "cell_type": "code",
   "execution_count": 1,
   "metadata": {
    "collapsed": true,
    "scrolled": true
   },
   "outputs": [],
   "source": [
    "import pandas as pd\n",
    "import re"
   ]
  },
  {
   "cell_type": "code",
   "execution_count": 2,
   "metadata": {
    "collapsed": true,
    "scrolled": true
   },
   "outputs": [],
   "source": [
    "county_data = pd.read_csv(\"Data/county_data.csv\", skiprows = [1])"
   ]
  },
  {
   "cell_type": "code",
   "execution_count": 18,
   "metadata": {
    "scrolled": true
   },
   "outputs": [
    {
     "data": {
      "text/plain": [
       "['State FIPS Code',\n",
       " 'County FIPS Code',\n",
       " '5-digit FIPS Code',\n",
       " 'State Abbreviation',\n",
       " 'Name',\n",
       " 'Premature death raw value',\n",
       " 'Premature death (Black)',\n",
       " 'Premature death (Hispanic)',\n",
       " 'Premature death (White)',\n",
       " 'Poor or fair health raw value',\n",
       " 'Poor physical health days raw value',\n",
       " 'Poor mental health days raw value',\n",
       " 'Low birthweight raw value',\n",
       " 'Low birthweight (Black)',\n",
       " 'Low birthweight (Hispanic)',\n",
       " 'Low birthweight (White)',\n",
       " 'Adult smoking raw value',\n",
       " 'Adult obesity raw value',\n",
       " 'Food environment index raw value',\n",
       " 'Physical inactivity raw value',\n",
       " 'Access to exercise opportunities raw value',\n",
       " 'Excessive drinking raw value',\n",
       " 'Alcohol-impaired driving deaths raw value',\n",
       " 'Sexually transmitted infections raw value',\n",
       " 'Teen births raw value',\n",
       " 'Teen births (Black)',\n",
       " 'Teen births (Hispanic)',\n",
       " 'Teen births (White)',\n",
       " 'Uninsured raw value',\n",
       " 'Primary care physicians raw value',\n",
       " 'Ratio of population to primary care physicians.',\n",
       " 'Dentists raw value',\n",
       " 'Ratio of population to dentists.',\n",
       " 'Mental health providers raw value',\n",
       " 'Ratio of population to mental health providers.',\n",
       " 'Preventable hospital stays raw value',\n",
       " 'Preventable hospital stays (Black)',\n",
       " 'Preventable hospital stays (Hispanic)',\n",
       " 'Preventable hospital stays (White)',\n",
       " 'Mammography screening raw value',\n",
       " 'Mammography screening (Black)',\n",
       " 'Mammography screening (Hispanic)',\n",
       " 'Mammography screening (White)',\n",
       " 'Flu vaccinations raw value',\n",
       " 'Flu vaccinations (Black)',\n",
       " 'Flu vaccinations (Hispanic)',\n",
       " 'Flu vaccinations (White)',\n",
       " 'High school graduation raw value',\n",
       " 'Some college raw value',\n",
       " 'Unemployment raw value',\n",
       " 'Children in poverty raw value',\n",
       " 'Children in poverty (Black)',\n",
       " 'Children in poverty (Hispanic)',\n",
       " 'Children in poverty (White)',\n",
       " 'Income inequality raw value',\n",
       " 'Children in single-parent households raw value',\n",
       " 'Social associations raw value',\n",
       " 'Violent crime raw value',\n",
       " 'Injury deaths raw value',\n",
       " 'Air pollution - particulate matter raw value',\n",
       " 'Drinking water violations raw value',\n",
       " 'Severe housing problems raw value',\n",
       " 'Percentage of households with high housing costs',\n",
       " 'Percentage of households with overcrowding',\n",
       " 'Percentage of households with lack of kitchen or plumbing facilities',\n",
       " 'Driving alone to work raw value',\n",
       " 'Driving alone to work (Black)',\n",
       " 'Driving alone to work (Hispanic)',\n",
       " 'Driving alone to work (White)',\n",
       " 'Long commute - driving alone raw value',\n",
       " 'Life expectancy raw value',\n",
       " 'Life expectancy (Black)',\n",
       " 'Life expectancy (Hispanic)',\n",
       " 'Life expectancy (White)',\n",
       " 'Premature age-adjusted mortality raw value',\n",
       " 'Premature age-adjusted mortality (Black)',\n",
       " 'Premature age-adjusted mortality (Hispanic)',\n",
       " 'Premature age-adjusted mortality (White)',\n",
       " 'Child mortality raw value',\n",
       " 'Child mortality (Black)',\n",
       " 'Child mortality (Hispanic)',\n",
       " 'Child mortality (White)',\n",
       " 'Infant mortality raw value',\n",
       " 'Infant mortality (Black)',\n",
       " 'Infant mortality (Hispanic)',\n",
       " 'Infant mortality (White)',\n",
       " 'Frequent physical distress raw value',\n",
       " 'Frequent mental distress raw value',\n",
       " 'Diabetes prevalence raw value',\n",
       " 'HIV prevalence raw value',\n",
       " 'Food insecurity raw value',\n",
       " 'Limited access to healthy foods raw value',\n",
       " 'Drug overdose deaths raw value',\n",
       " 'Motor vehicle crash deaths raw value',\n",
       " 'Insufficient sleep raw value',\n",
       " 'Uninsured adults raw value',\n",
       " 'uninsured_adults_raw',\n",
       " 'adult_population_18_64',\n",
       " 'Uninsured children raw value',\n",
       " 'Other primary care providers raw value',\n",
       " 'Ratio of population to primary care providers other than physicians.',\n",
       " 'Disconnected youth raw value',\n",
       " 'Median household income raw value',\n",
       " 'Median household income (Black)',\n",
       " 'Median household income (Hispanic)',\n",
       " 'Median household income (White)',\n",
       " 'Children eligible for free or reduced price lunch raw value',\n",
       " 'Residential segregation - Black/White raw value',\n",
       " 'Residential segregation - non-white/white raw value',\n",
       " 'Homicides raw value',\n",
       " 'Firearm fatalities raw value',\n",
       " 'Homeownership raw value',\n",
       " 'Severe housing cost burden raw value',\n",
       " 'Population raw value',\n",
       " '% below 18 years of age raw value',\n",
       " '% 65 and older raw value',\n",
       " '% Non-Hispanic African American raw value',\n",
       " '% American Indian and Alaskan Native raw value',\n",
       " '% Asian raw value',\n",
       " '% Native Hawaiian/Other Pacific Islander raw value',\n",
       " '% Hispanic raw value',\n",
       " '% Non-Hispanic white raw value',\n",
       " '% not proficient in English raw value',\n",
       " '% Females raw value',\n",
       " '% Rural raw value',\n",
       " 'Communicable disease raw value',\n",
       " 'Self-inflicted injury hospitalizations raw value',\n",
       " 'Cancer incidence raw value',\n",
       " 'Coronary heart disease hospitalizations raw value',\n",
       " 'Cerebrovascular disease hospitalizations raw value',\n",
       " 'Smoking during pregnancy raw value',\n",
       " 'Drug arrests raw value',\n",
       " 'Opioid hospital visits raw value',\n",
       " 'Alcohol-related hospitalizations raw value',\n",
       " 'Motor vehicle crash occupancy rate raw value',\n",
       " 'On-road motor vehicle crash-related ER visits raw value',\n",
       " 'Off-road motor vehicle crash-related ER visits raw value',\n",
       " 'Childhood immunizations raw value',\n",
       " 'Reading proficiency raw value',\n",
       " 'W-2 enrollment raw value',\n",
       " 'Poverty raw value',\n",
       " 'Older adults living alone raw value',\n",
       " 'Hate crimes raw value',\n",
       " 'Child abuse raw value',\n",
       " 'Injury hospitalizations raw value',\n",
       " 'Fall fatalities 65+ raw value',\n",
       " 'Year structure built raw value',\n",
       " 'Male population 0-17 raw value',\n",
       " 'Male population 18-44 raw value',\n",
       " 'Male population 45-64 raw value',\n",
       " 'Male population 65+ raw value',\n",
       " 'Total male population raw value',\n",
       " 'Female population 0-17 raw value',\n",
       " 'Female population 18-44 raw value',\n",
       " 'Female population 45-64 raw value',\n",
       " 'Female population 65+ raw value',\n",
       " 'Total female population raw value',\n",
       " 'Population growth raw value']"
      ]
     },
     "execution_count": 18,
     "metadata": {},
     "output_type": "execute_result"
    }
   ],
   "source": [
    "county_data.columns.to_list()"
   ]
  },
  {
   "cell_type": "code",
   "execution_count": 4,
   "metadata": {
    "collapsed": true,
    "scrolled": true
   },
   "outputs": [],
   "source": [
    "county_data = county_data.rename(columns = { \"Uninsured adults numerator\": \"uninsured_adults_raw\", \n",
    "                                             \"Uninsured adults denominator\": \"adult_population_18_64\"})\n"
   ]
  },
  {
   "cell_type": "markdown",
   "metadata": {},
   "source": [
    "## Removing Columns "
   ]
  },
  {
   "cell_type": "code",
   "execution_count": 5,
   "metadata": {
    "collapsed": true,
    "scrolled": true
   },
   "outputs": [],
   "source": [
    "def del_col(df, suffixes):\n",
    "    for suffix in suffixes:\n",
    "        for col in df.columns:\n",
    "            if suffix in col:\n",
    "                del df[col]\n",
    "    return df"
   ]
  },
  {
   "cell_type": "code",
   "execution_count": 6,
   "metadata": {
    "collapsed": true,
    "scrolled": true
   },
   "outputs": [],
   "source": [
    "county_data_new = del_col(county_data, [\"numerator\", \"denominator\", \"CI low\", \"CI high\", \"County Ranked\", \"Release Year\"])"
   ]
  },
  {
   "cell_type": "markdown",
   "metadata": {},
   "source": [
    "## Renaming Columns"
   ]
  },
  {
   "cell_type": "code",
   "execution_count": 7,
   "metadata": {
    "collapsed": true,
    "scrolled": true
   },
   "outputs": [],
   "source": [
    "column_names = {}\n",
    "for col_name in county_data_new.columns:\n",
    "    col_name_clean = re.sub(r\"[()\\\"#/@;:<>{}`+=~|.!?,]\", \" \", col_name)\n",
    "    col_name_clean = col_name_clean.replace(\"-\",\" \").replace(\"raw value\",\"\").lower()\n",
    "    col_name_clean = '_'.join(col_name_clean.split()) \n",
    "    column_names[col_name] = col_name_clean\n",
    "county_data_new = county_data_new.rename(columns=column_names)"
   ]
  },
  {
   "cell_type": "code",
   "execution_count": 8,
   "metadata": {
    "collapsed": true,
    "scrolled": true
   },
   "outputs": [],
   "source": [
    "county_data_new.columns = county_data_new.columns.str.replace(\"%\", \"percent\")"
   ]
  },
  {
   "cell_type": "code",
   "execution_count": 9,
   "metadata": {
    "collapsed": true,
    "scrolled": true
   },
   "outputs": [],
   "source": [
    "county_data_new.to_csv(\"Data/county_data_clean.csv\")"
   ]
  },
  {
   "cell_type": "code",
   "execution_count": 19,
   "metadata": {
    "scrolled": true
   },
   "outputs": [
    {
     "data": {
      "text/plain": [
       "['state_fips_code',\n",
       " 'county_fips_code',\n",
       " '5_digit_fips_code',\n",
       " 'state_abbreviation',\n",
       " 'name',\n",
       " 'premature_death',\n",
       " 'premature_death_black',\n",
       " 'premature_death_hispanic',\n",
       " 'premature_death_white',\n",
       " 'poor_or_fair_health',\n",
       " 'poor_physical_health_days',\n",
       " 'poor_mental_health_days',\n",
       " 'low_birthweight',\n",
       " 'low_birthweight_black',\n",
       " 'low_birthweight_hispanic',\n",
       " 'low_birthweight_white',\n",
       " 'adult_smoking',\n",
       " 'adult_obesity',\n",
       " 'food_environment_index',\n",
       " 'physical_inactivity',\n",
       " 'access_to_exercise_opportunities',\n",
       " 'excessive_drinking',\n",
       " 'alcohol_impaired_driving_deaths',\n",
       " 'sexually_transmitted_infections',\n",
       " 'teen_births',\n",
       " 'teen_births_black',\n",
       " 'teen_births_hispanic',\n",
       " 'teen_births_white',\n",
       " 'uninsured',\n",
       " 'primary_care_physicians',\n",
       " 'ratio_of_population_to_primary_care_physicians',\n",
       " 'dentists',\n",
       " 'ratio_of_population_to_dentists',\n",
       " 'mental_health_providers',\n",
       " 'ratio_of_population_to_mental_health_providers',\n",
       " 'preventable_hospital_stays',\n",
       " 'preventable_hospital_stays_black',\n",
       " 'preventable_hospital_stays_hispanic',\n",
       " 'preventable_hospital_stays_white',\n",
       " 'mammography_screening',\n",
       " 'mammography_screening_black',\n",
       " 'mammography_screening_hispanic',\n",
       " 'mammography_screening_white',\n",
       " 'flu_vaccinations',\n",
       " 'flu_vaccinations_black',\n",
       " 'flu_vaccinations_hispanic',\n",
       " 'flu_vaccinations_white',\n",
       " 'high_school_graduation',\n",
       " 'some_college',\n",
       " 'unemployment',\n",
       " 'children_in_poverty',\n",
       " 'children_in_poverty_black',\n",
       " 'children_in_poverty_hispanic',\n",
       " 'children_in_poverty_white',\n",
       " 'income_inequality',\n",
       " 'children_in_single_parent_households',\n",
       " 'social_associations',\n",
       " 'violent_crime',\n",
       " 'injury_deaths',\n",
       " 'air_pollution_particulate_matter',\n",
       " 'drinking_water_violations',\n",
       " 'severe_housing_problems',\n",
       " 'percentage_of_households_with_high_housing_costs',\n",
       " 'percentage_of_households_with_overcrowding',\n",
       " 'percentage_of_households_with_lack_of_kitchen_or_plumbing_facilities',\n",
       " 'driving_alone_to_work',\n",
       " 'driving_alone_to_work_black',\n",
       " 'driving_alone_to_work_hispanic',\n",
       " 'driving_alone_to_work_white',\n",
       " 'long_commute_driving_alone',\n",
       " 'life_expectancy',\n",
       " 'life_expectancy_black',\n",
       " 'life_expectancy_hispanic',\n",
       " 'life_expectancy_white',\n",
       " 'premature_age_adjusted_mortality',\n",
       " 'premature_age_adjusted_mortality_black',\n",
       " 'premature_age_adjusted_mortality_hispanic',\n",
       " 'premature_age_adjusted_mortality_white',\n",
       " 'child_mortality',\n",
       " 'child_mortality_black',\n",
       " 'child_mortality_hispanic',\n",
       " 'child_mortality_white',\n",
       " 'infant_mortality',\n",
       " 'infant_mortality_black',\n",
       " 'infant_mortality_hispanic',\n",
       " 'infant_mortality_white',\n",
       " 'frequent_physical_distress',\n",
       " 'frequent_mental_distress',\n",
       " 'diabetes_prevalence',\n",
       " 'hiv_prevalence',\n",
       " 'food_insecurity',\n",
       " 'limited_access_to_healthy_foods',\n",
       " 'drug_overdose_deaths',\n",
       " 'motor_vehicle_crash_deaths',\n",
       " 'insufficient_sleep',\n",
       " 'uninsured_adults',\n",
       " 'uninsured_adults_raw',\n",
       " 'adult_population_18_64',\n",
       " 'uninsured_children',\n",
       " 'other_primary_care_providers',\n",
       " 'ratio_of_population_to_primary_care_providers_other_than_physicians',\n",
       " 'disconnected_youth',\n",
       " 'median_household_income',\n",
       " 'median_household_income_black',\n",
       " 'median_household_income_hispanic',\n",
       " 'median_household_income_white',\n",
       " 'children_eligible_for_free_or_reduced_price_lunch',\n",
       " 'residential_segregation_black_white',\n",
       " 'residential_segregation_non_white_white',\n",
       " 'homicides',\n",
       " 'firearm_fatalities',\n",
       " 'homeownership',\n",
       " 'severe_housing_cost_burden',\n",
       " 'population',\n",
       " 'percent_below_18_years_of_age',\n",
       " 'percent_65_and_older',\n",
       " 'percent_non_hispanic_african_american',\n",
       " 'percent_american_indian_and_alaskan_native',\n",
       " 'percent_asian',\n",
       " 'percent_native_hawaiian_other_pacific_islander',\n",
       " 'percent_hispanic',\n",
       " 'percent_non_hispanic_white',\n",
       " 'percent_not_proficient_in_english',\n",
       " 'percent_females',\n",
       " 'percent_rural',\n",
       " 'communicable_disease',\n",
       " 'self_inflicted_injury_hospitalizations',\n",
       " 'cancer_incidence',\n",
       " 'coronary_heart_disease_hospitalizations',\n",
       " 'cerebrovascular_disease_hospitalizations',\n",
       " 'smoking_during_pregnancy',\n",
       " 'drug_arrests',\n",
       " 'opioid_hospital_visits',\n",
       " 'alcohol_related_hospitalizations',\n",
       " 'motor_vehicle_crash_occupancy_rate',\n",
       " 'on_road_motor_vehicle_crash_related_er_visits',\n",
       " 'off_road_motor_vehicle_crash_related_er_visits',\n",
       " 'childhood_immunizations',\n",
       " 'reading_proficiency',\n",
       " 'w_2_enrollment',\n",
       " 'poverty',\n",
       " 'older_adults_living_alone',\n",
       " 'hate_crimes',\n",
       " 'child_abuse',\n",
       " 'injury_hospitalizations',\n",
       " 'fall_fatalities_65',\n",
       " 'year_structure_built',\n",
       " 'male_population_0_17',\n",
       " 'male_population_18_44',\n",
       " 'male_population_45_64',\n",
       " 'male_population_65',\n",
       " 'total_male_population',\n",
       " 'female_population_0_17',\n",
       " 'female_population_18_44',\n",
       " 'female_population_45_64',\n",
       " 'female_population_65',\n",
       " 'total_female_population',\n",
       " 'population_growth']"
      ]
     },
     "execution_count": 19,
     "metadata": {},
     "output_type": "execute_result"
    }
   ],
   "source": [
    "county_data_new.columns.to_list()"
   ]
  },
  {
   "cell_type": "markdown",
   "metadata": {},
   "source": [
    "## For Tableau "
   ]
  },
  {
   "cell_type": "code",
   "execution_count": 21,
   "metadata": {},
   "outputs": [],
   "source": [
    "county_data_tableau = county_data_new.copy()"
   ]
  },
  {
   "cell_type": "code",
   "execution_count": 22,
   "metadata": {},
   "outputs": [],
   "source": [
    "county_data_tableau.columns = county_data_tableau.columns.str.replace(\"_\", \" \")"
   ]
  },
  {
   "cell_type": "code",
   "execution_count": 23,
   "metadata": {},
   "outputs": [],
   "source": [
    "county_data_tableau.to_csv(\"Data/county_data_tableau.csv\")"
   ]
  }
 ],
 "metadata": {
  "kernelspec": {
   "display_name": "Python 3",
   "language": "python",
   "name": "python3"
  },
  "language_info": {
   "codemirror_mode": {
    "name": "ipython",
    "version": 3
   },
   "file_extension": ".py",
   "mimetype": "text/x-python",
   "name": "python",
   "nbconvert_exporter": "python",
   "pygments_lexer": "ipython3",
   "version": "3.8.3"
  }
 },
 "nbformat": 4,
 "nbformat_minor": 4
}
