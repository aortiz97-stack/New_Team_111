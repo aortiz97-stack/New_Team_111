{
 "cells": [
  {
   "cell_type": "code",
   "execution_count": 1,
   "metadata": {},
   "outputs": [],
   "source": [
    "import pandas as pd\n",
    "import re"
   ]
  },
  {
   "cell_type": "code",
   "execution_count": 2,
   "metadata": {},
   "outputs": [],
   "source": [
    "county_data = pd.read_csv(\"Data/county_data.csv\", skiprows = [1])"
   ]
  },
  {
   "cell_type": "code",
   "execution_count": 3,
   "metadata": {},
   "outputs": [
    {
     "data": {
      "text/plain": [
       "Index(['State FIPS Code', 'County FIPS Code', '5-digit FIPS Code',\n",
       "       'State Abbreviation', 'Name', 'Release Year',\n",
       "       'County Ranked (Yes=1/No=0)', 'Premature death raw value',\n",
       "       'Premature death numerator', 'Premature death denominator',\n",
       "       'Premature death CI low', 'Premature death CI high',\n",
       "       'Premature death (Black)', 'Premature death (Hispanic)',\n",
       "       'Premature death (White)', 'Poor or fair health raw value',\n",
       "       'Poor or fair health numerator', 'Poor or fair health denominator',\n",
       "       'Poor or fair health CI low', 'Poor or fair health CI high',\n",
       "       'Poor physical health days raw value',\n",
       "       'Poor physical health days numerator',\n",
       "       'Poor physical health days denominator',\n",
       "       'Poor physical health days CI low', 'Poor physical health days CI high',\n",
       "       'Poor mental health days raw value',\n",
       "       'Poor mental health days numerator',\n",
       "       'Poor mental health days denominator', 'Poor mental health days CI low',\n",
       "       'Poor mental health days CI high', 'Low birthweight raw value',\n",
       "       'Low birthweight numerator', 'Low birthweight denominator',\n",
       "       'Low birthweight CI low', 'Low birthweight CI high',\n",
       "       'Low birthweight (Black)', 'Low birthweight (Hispanic)',\n",
       "       'Low birthweight (White)', 'Adult smoking raw value',\n",
       "       'Adult smoking numerator', 'Adult smoking denominator',\n",
       "       'Adult smoking CI low', 'Adult smoking CI high',\n",
       "       'Adult obesity raw value', 'Adult obesity numerator',\n",
       "       'Adult obesity denominator', 'Adult obesity CI low',\n",
       "       'Adult obesity CI high', 'Food environment index raw value',\n",
       "       'Food environment index numerator',\n",
       "       'Food environment index denominator', 'Food environment index CI low',\n",
       "       'Food environment index CI high', 'Physical inactivity raw value',\n",
       "       'Physical inactivity numerator', 'Physical inactivity denominator',\n",
       "       'Physical inactivity CI low', 'Physical inactivity CI high',\n",
       "       'Access to exercise opportunities raw value',\n",
       "       'Access to exercise opportunities numerator',\n",
       "       'Access to exercise opportunities denominator',\n",
       "       'Access to exercise opportunities CI low',\n",
       "       'Access to exercise opportunities CI high',\n",
       "       'Excessive drinking raw value', 'Excessive drinking numerator',\n",
       "       'Excessive drinking denominator', 'Excessive drinking CI low',\n",
       "       'Excessive drinking CI high',\n",
       "       'Alcohol-impaired driving deaths raw value',\n",
       "       'Alcohol-impaired driving deaths numerator',\n",
       "       'Alcohol-impaired driving deaths denominator',\n",
       "       'Alcohol-impaired driving deaths CI low',\n",
       "       'Alcohol-impaired driving deaths CI high',\n",
       "       'Sexually transmitted infections raw value',\n",
       "       'Sexually transmitted infections numerator',\n",
       "       'Sexually transmitted infections denominator',\n",
       "       'Sexually transmitted infections CI low',\n",
       "       'Sexually transmitted infections CI high', 'Teen births raw value',\n",
       "       'Teen births numerator', 'Teen births denominator',\n",
       "       'Teen births CI low', 'Teen births CI high', 'Teen births (Black)',\n",
       "       'Teen births (Hispanic)', 'Teen births (White)', 'Uninsured raw value',\n",
       "       'Uninsured numerator', 'Uninsured denominator', 'Uninsured CI low',\n",
       "       'Uninsured CI high', 'Primary care physicians raw value',\n",
       "       'Primary care physicians numerator',\n",
       "       'Primary care physicians denominator', 'Primary care physicians CI low',\n",
       "       'Primary care physicians CI high',\n",
       "       'Ratio of population to primary care physicians.', 'Dentists raw value',\n",
       "       'Dentists numerator', 'Dentists denominator'],\n",
       "      dtype='object')"
      ]
     },
     "execution_count": 3,
     "metadata": {},
     "output_type": "execute_result"
    }
   ],
   "source": [
    "county_data.columns[0:100]"
   ]
  },
  {
   "cell_type": "markdown",
   "metadata": {},
   "source": [
    "## Removing Columns "
   ]
  },
  {
   "cell_type": "code",
   "execution_count": 4,
   "metadata": {},
   "outputs": [],
   "source": [
    "def del_col(df, suffixes):\n",
    "    for suffix in suffixes:\n",
    "        for col in df.columns:\n",
    "            if suffix in col:\n",
    "                del df[col]\n",
    "    return df"
   ]
  },
  {
   "cell_type": "code",
   "execution_count": 5,
   "metadata": {},
   "outputs": [],
   "source": [
    "county_data_new = del_col(county_data, [\"numerator\", \"denominator\", \"CI low\", \"CI high\", \"County Ranked\", \"Release Year\"])"
   ]
  },
  {
   "cell_type": "markdown",
   "metadata": {},
   "source": [
    "## Renaming Columns"
   ]
  },
  {
   "cell_type": "code",
   "execution_count": 6,
   "metadata": {},
   "outputs": [],
   "source": [
    "column_names = {}\n",
    "for col_name in county_data_new.columns:\n",
    "    col_name_clean = re.sub(r\"[()\\\"#/@;:<>{}`+=~|.!?,]\", \" \", col_name)\n",
    "    col_name_clean = col_name_clean.replace(\"raw value\",\"\").replace(\" \",\"_\").lower()\n",
    "    col_name_clean = col_name_clean.replace(\"-\",\"_\").replace(\"__\",\"_\").replace(\"___\",\"_\")\n",
    "    col_name_clean = col_name_clean.rstrip(\"_\")\n",
    "    column_names[col_name] = col_name_clean\n",
    "county_data_new = county_data_new.rename(columns=column_names)"
   ]
  },
  {
   "cell_type": "code",
   "execution_count": 7,
   "metadata": {},
   "outputs": [
    {
     "data": {
      "text/plain": [
       "Index(['state_fips_code', 'county_fips_code', '5_digit_fips_code',\n",
       "       'state_abbreviation', 'name', 'premature_death',\n",
       "       'premature_death_black', 'premature_death_hispanic',\n",
       "       'premature_death_white', 'poor_or_fair_health',\n",
       "       'poor_physical_health_days', 'poor_mental_health_days',\n",
       "       'low_birthweight', 'low_birthweight_black', 'low_birthweight_hispanic',\n",
       "       'low_birthweight_white', 'adult_smoking', 'adult_obesity',\n",
       "       'food_environment_index', 'physical_inactivity',\n",
       "       'access_to_exercise_opportunities', 'excessive_drinking',\n",
       "       'alcohol_impaired_driving_deaths', 'sexually_transmitted_infections',\n",
       "       'teen_births', 'teen_births_black', 'teen_births_hispanic',\n",
       "       'teen_births_white', 'uninsured', 'primary_care_physicians',\n",
       "       'ratio_of_population_to_primary_care_physicians', 'dentists',\n",
       "       'ratio_of_population_to_dentists', 'mental_health_providers',\n",
       "       'ratio_of_population_to_mental_health_providers',\n",
       "       'preventable_hospital_stays', 'preventable_hospital_stays_black',\n",
       "       'preventable_hospital_stays_hispanic',\n",
       "       'preventable_hospital_stays_white', 'mammography_screening',\n",
       "       'mammography_screening_black', 'mammography_screening_hispanic',\n",
       "       'mammography_screening_white', 'flu_vaccinations',\n",
       "       'flu_vaccinations_black', 'flu_vaccinations_hispanic',\n",
       "       'flu_vaccinations_white', 'high_school_graduation', 'some_college',\n",
       "       'unemployment', 'children_in_poverty', 'children_in_poverty_black',\n",
       "       'children_in_poverty_hispanic', 'children_in_poverty_white',\n",
       "       'income_inequality', 'children_in_single_parent_households',\n",
       "       'social_associations', 'violent_crime', 'injury_deaths',\n",
       "       'air_pollution__particulate_matter', 'drinking_water_violations',\n",
       "       'severe_housing_problems',\n",
       "       'percentage_of_households_with_high_housing_costs',\n",
       "       'percentage_of_households_with_overcrowding',\n",
       "       'percentage_of_households_with_lack_of_kitchen_or_plumbing_facilities',\n",
       "       'driving_alone_to_work', 'driving_alone_to_work_black',\n",
       "       'driving_alone_to_work_hispanic', 'driving_alone_to_work_white',\n",
       "       'long_commute__driving_alone', 'life_expectancy',\n",
       "       'life_expectancy_black', 'life_expectancy_hispanic',\n",
       "       'life_expectancy_white', 'premature_age_adjusted_mortality',\n",
       "       'premature_age_adjusted_mortality_black',\n",
       "       'premature_age_adjusted_mortality_hispanic',\n",
       "       'premature_age_adjusted_mortality_white', 'child_mortality',\n",
       "       'child_mortality_black', 'child_mortality_hispanic',\n",
       "       'child_mortality_white', 'infant_mortality', 'infant_mortality_black',\n",
       "       'infant_mortality_hispanic', 'infant_mortality_white',\n",
       "       'frequent_physical_distress', 'frequent_mental_distress',\n",
       "       'diabetes_prevalence', 'hiv_prevalence', 'food_insecurity',\n",
       "       'limited_access_to_healthy_foods', 'drug_overdose_deaths',\n",
       "       'motor_vehicle_crash_deaths', 'insufficient_sleep', 'uninsured_adults',\n",
       "       'uninsured_children', 'other_primary_care_providers',\n",
       "       'ratio_of_population_to_primary_care_providers_other_than_physicians',\n",
       "       'disconnected_youth'],\n",
       "      dtype='object')"
      ]
     },
     "execution_count": 7,
     "metadata": {},
     "output_type": "execute_result"
    }
   ],
   "source": [
    "county_data_new.columns[0:100]"
   ]
  },
  {
   "cell_type": "code",
   "execution_count": 8,
   "metadata": {},
   "outputs": [
    {
     "data": {
      "text/plain": [
       "Index(['median_household_income', 'median_household_income_black',\n",
       "       'median_household_income_hispanic', 'median_household_income_white',\n",
       "       'children_eligible_for_free_or_reduced_price_lunch',\n",
       "       'residential_segregation__black_white',\n",
       "       'residential_segregation__non_white_white', 'homicides',\n",
       "       'firearm_fatalities', 'homeownership', 'severe_housing_cost_burden',\n",
       "       'population', '%_below_18_years_of_age', '%_65_and_older',\n",
       "       '%_non_hispanic_african_american',\n",
       "       '%_american_indian_and_alaskan_native', '%_asian',\n",
       "       '%_native_hawaiian_other_pacific_islander', '%_hispanic',\n",
       "       '%_non_hispanic_white', '%_not_proficient_in_english', '%_females',\n",
       "       '%_rural', 'communicable_disease',\n",
       "       'self_inflicted_injury_hospitalizations', 'cancer_incidence',\n",
       "       'coronary_heart_disease_hospitalizations',\n",
       "       'cerebrovascular_disease_hospitalizations', 'smoking_during_pregnancy',\n",
       "       'drug_arrests', 'opioid_hospital_visits',\n",
       "       'alcohol_related_hospitalizations',\n",
       "       'motor_vehicle_crash_occupancy_rate',\n",
       "       'on_road_motor_vehicle_crash_related_er_visits',\n",
       "       'off_road_motor_vehicle_crash_related_er_visits',\n",
       "       'childhood_immunizations', 'reading_proficiency', 'w_2_enrollment',\n",
       "       'poverty', 'older_adults_living_alone', 'hate_crimes', 'child_abuse',\n",
       "       'injury_hospitalizations', 'fall_fatalities_65', 'year_structure_built',\n",
       "       'male_population_0_17', 'male_population_18_44',\n",
       "       'male_population_45_64', 'male_population_65', 'total_male_population',\n",
       "       'female_population_0_17', 'female_population_18_44',\n",
       "       'female_population_45_64', 'female_population_65',\n",
       "       'total_female_population', 'population_growth'],\n",
       "      dtype='object')"
      ]
     },
     "execution_count": 8,
     "metadata": {},
     "output_type": "execute_result"
    }
   ],
   "source": [
    "county_data_new.columns[100:157]"
   ]
  },
  {
   "cell_type": "code",
   "execution_count": 9,
   "metadata": {},
   "outputs": [],
   "source": [
    "county_data_new.to_csv(\"Data/county_data_clean.csv\")"
   ]
  }
 ],
 "metadata": {
  "kernelspec": {
   "display_name": "Python 3",
   "language": "python",
   "name": "python3"
  },
  "language_info": {
   "codemirror_mode": {
    "name": "ipython",
    "version": 3
   },
   "file_extension": ".py",
   "mimetype": "text/x-python",
   "name": "python",
   "nbconvert_exporter": "python",
   "pygments_lexer": "ipython3",
   "version": "3.8.3"
  }
 },
 "nbformat": 4,
 "nbformat_minor": 4
}
