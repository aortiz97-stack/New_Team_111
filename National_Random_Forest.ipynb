{
 "cells": [
  {
   "cell_type": "markdown",
   "id": "67f64ff6",
   "metadata": {},
   "source": [
    "Source: https://towardsdatascience.com/random-forest-in-python-24d0893d51c0"
   ]
  },
  {
   "cell_type": "code",
   "execution_count": 268,
   "id": "c6f565be",
   "metadata": {},
   "outputs": [],
   "source": [
    "import pandas as pd\n",
    "import random\n",
    "import numpy as np\n",
    "import matplotlib.pyplot as plt\n",
    "from statsmodels.stats.outliers_influence import variance_inflation_factor\n",
    "from sklearn.model_selection import train_test_split\n",
    "from sklearn.ensemble import RandomForestRegressor\n",
    "from sklearn.experimental import enable_iterative_imputer\n",
    "from sklearn.impute import IterativeImputer\n",
    "from sklearn.impute import SimpleImputer\n",
    "from sklearn.datasets import make_regression\n",
    "from collections import defaultdict\n",
    "import missingno as msno\n"
   ]
  },
  {
   "cell_type": "code",
   "execution_count": 269,
   "id": "afc58bb1",
   "metadata": {},
   "outputs": [],
   "source": [
    "df = pd.read_csv(\"Data/county_data_clean.csv\").drop(columns=\"Unnamed: 0\")\n",
    "df = df[df.state_abbreviation!='US']"
   ]
  },
  {
   "cell_type": "code",
   "execution_count": 290,
   "id": "c2c7d0ab",
   "metadata": {},
   "outputs": [
    {
     "data": {
      "text/plain": [
       "['premature_death',\n",
       " 'premature_death_black',\n",
       " 'premature_death_hispanic',\n",
       " 'premature_death_white',\n",
       " 'poor_physical_health_days',\n",
       " 'poor_mental_health_days',\n",
       " 'food_environment_index',\n",
       " 'sexually_transmitted_infections',\n",
       " 'teen_births',\n",
       " 'teen_births_black',\n",
       " 'teen_births_hispanic',\n",
       " 'teen_births_white',\n",
       " 'ratio_of_population_to_primary_care_physicians',\n",
       " 'ratio_of_population_to_dentists',\n",
       " 'ratio_of_population_to_mental_health_providers',\n",
       " 'preventable_hospital_stays',\n",
       " 'preventable_hospital_stays_black',\n",
       " 'preventable_hospital_stays_hispanic',\n",
       " 'preventable_hospital_stays_white',\n",
       " 'income_inequality',\n",
       " 'social_associations',\n",
       " 'violent_crime',\n",
       " 'injury_deaths',\n",
       " 'air_pollution__particulate_matter',\n",
       " 'life_expectancy',\n",
       " 'life_expectancy_black',\n",
       " 'life_expectancy_hispanic',\n",
       " 'life_expectancy_white',\n",
       " 'premature_age_adjusted_mortality',\n",
       " 'premature_age_adjusted_mortality_black',\n",
       " 'premature_age_adjusted_mortality_hispanic',\n",
       " 'premature_age_adjusted_mortality_white',\n",
       " 'child_mortality',\n",
       " 'child_mortality_black',\n",
       " 'child_mortality_hispanic',\n",
       " 'child_mortality_white',\n",
       " 'infant_mortality',\n",
       " 'infant_mortality_black',\n",
       " 'infant_mortality_hispanic',\n",
       " 'infant_mortality_white',\n",
       " 'hiv_prevalence',\n",
       " 'drug_overdose_deaths',\n",
       " 'motor_vehicle_crash_deaths',\n",
       " 'ratio_of_population_to_primary_care_providers_other_than_physicians',\n",
       " 'median_household_income',\n",
       " 'median_household_income_black',\n",
       " 'median_household_income_hispanic',\n",
       " 'median_household_income_white',\n",
       " 'residential_segregation__black_white',\n",
       " 'residential_segregation__non_white_white',\n",
       " 'homicides',\n",
       " 'firearm_fatalities',\n",
       " 'population',\n",
       " 'communicable_disease',\n",
       " 'self_inflicted_injury_hospitalizations',\n",
       " 'cancer_incidence',\n",
       " 'coronary_heart_disease_hospitalizations',\n",
       " 'cerebrovascular_disease_hospitalizations',\n",
       " 'drug_arrests',\n",
       " 'opioid_hospital_visits',\n",
       " 'alcohol_related_hospitalizations',\n",
       " 'motor_vehicle_crash_occupancy_rate',\n",
       " 'on_road_motor_vehicle_crash_related_er_visits',\n",
       " 'off_road_motor_vehicle_crash_related_er_visits',\n",
       " 'w_2_enrollment',\n",
       " 'hate_crimes',\n",
       " 'child_abuse',\n",
       " 'injury_hospitalizations',\n",
       " 'fall_fatalities_65',\n",
       " 'male_population_0_17',\n",
       " 'male_population_18_44',\n",
       " 'male_population_45_64',\n",
       " 'male_population_65',\n",
       " 'total_male_population',\n",
       " 'female_population_0_17',\n",
       " 'female_population_18_44',\n",
       " 'female_population_45_64',\n",
       " 'female_population_65',\n",
       " 'total_female_population']"
      ]
     },
     "execution_count": 290,
     "metadata": {},
     "output_type": "execute_result"
    }
   ],
   "source": [
    "non_normalized_columns = []\n",
    "\n",
    "for column in df.columns:\n",
    "    if column not in ['state_fips_code','county_fips_code','5_digit_fips_code', 'state_abbreviation','name']:\n",
    "        if (df[column].values > 1.0).any():\n",
    "            non_normalized_columns.append(column)\n",
    "\n",
    "\n",
    "non_normalized_columns"
   ]
  },
  {
   "cell_type": "code",
   "execution_count": 244,
   "id": "7ecd9edd",
   "metadata": {},
   "outputs": [
    {
     "data": {
      "text/plain": [
       "(3193, 77)"
      ]
     },
     "execution_count": 244,
     "metadata": {},
     "output_type": "execute_result"
    }
   ],
   "source": [
    "features_df = df.drop(['uninsured_adults', 'uninsured_children', 'county_fips_code',\n",
    "                   '5_digit_fips_code'], axis = 1)\n",
    "# Replacing missing value of uninsured with mean of uninsured\n",
    "features_df['uninsured'] = features_df.uninsured.replace([float(\"nan\")], features_df.uninsured.mean())\n",
    "\n",
    "for column in features_df.columns:\n",
    "    na_sum= (features_df[column].isna().sum())\n",
    "    column_size = (features_df[column].size)\n",
    "    #print(na_sum/column_size)\n",
    "    if (features_df[column].isna().sum()/features_df[column].size) > 0.25:\n",
    "        features_df = features_df.drop(columns=column)\n",
    "features_df.shape"
   ]
  },
  {
   "cell_type": "code",
   "execution_count": 245,
   "id": "5bddc0e3",
   "metadata": {},
   "outputs": [],
   "source": [
    "state_groupby = features_df.groupby('state_abbreviation').count()"
   ]
  },
  {
   "cell_type": "code",
   "execution_count": 246,
   "id": "29b47535",
   "metadata": {},
   "outputs": [
    {
     "name": "stdout",
     "output_type": "stream",
     "text": [
      "air_pollution__particulate_matter is not useful for AK: 0.0\n",
      "air_pollution__particulate_matter is not useful for HI: 0.0\n",
      "drinking_water_violations is not useful for HI: 0.0\n",
      "hiv_prevalence is not useful for ND: 0.24074074074074073\n",
      "hiv_prevalence is not useful for NE: 0.13829787234042554\n",
      "hiv_prevalence is not useful for SD: 0.014925373134328358\n",
      "children_eligible_for_free_or_reduced_price_lunch is not useful for DC: 0.0\n",
      "children_eligible_for_free_or_reduced_price_lunch is not useful for DE: 0.0\n",
      "children_eligible_for_free_or_reduced_price_lunch is not useful for MA: 0.0\n",
      "children_eligible_for_free_or_reduced_price_lunch is not useful for TN: 0.0\n"
     ]
    }
   ],
   "source": [
    "state_groupby = features_df.groupby('state_abbreviation').count()\n",
    "null_count_dict = defaultdict(int)\n",
    "\n",
    "for column in state_groupby.columns:\n",
    "    null_count_dict[column] = 0\n",
    "    for state in state_groupby.index:\n",
    "        value = state_groupby.loc[state][column]\n",
    "        size = state_groupby.loc[state]['state_fips_code']\n",
    "        if (value/size) <= 0.25:\n",
    "            print(\"{0} is not useful for {1}: {2}\".format(column, state, str(value/size)))\n",
    "            null_count_dict[column] += 1\n",
    "            \n",
    "exclude_features = []\n",
    "for feature, null_count in null_count_dict.items():\n",
    "    if null_count > 13:\n",
    "        exclude_features.append(feature.strip(\"\"))"
   ]
  },
  {
   "cell_type": "code",
   "execution_count": 247,
   "id": "e0e10aea",
   "metadata": {},
   "outputs": [],
   "source": [
    "features_df = features_df.drop(columns = exclude_features)"
   ]
  },
  {
   "cell_type": "code",
   "execution_count": 248,
   "id": "ff75ff6a",
   "metadata": {},
   "outputs": [],
   "source": [
    "# Drop indices that has more than 25% data\n",
    "exclude_indices = []\n",
    "for index in features_df.index:\n",
    "    series = features_df.drop(columns=['state_fips_code', 'state_abbreviation', 'name']).loc[index]\n",
    "    null_count = len(series[series.isnull()])\n",
    "    series_size = len(series)\n",
    "    if (null_count/series_size) >= 0.25:\n",
    "        exclude_indices.append(index)\n",
    "\n",
    "features_df = features_df.drop(index=exclude_indices)"
   ]
  },
  {
   "cell_type": "code",
   "execution_count": 249,
   "id": "85d0b942",
   "metadata": {},
   "outputs": [
    {
     "data": {
      "text/plain": [
       "<AxesSubplot:>"
      ]
     },
     "execution_count": 249,
     "metadata": {},
     "output_type": "execute_result"
    },
    {
     "data": {
      "image/png": "[encoded data removed]",
      "text/plain": [
       "<Figure size 1800x720 with 2 Axes>"
      ]
     },
     "metadata": {
      "needs_background": "light"
     },
     "output_type": "display_data"
    }
   ],
   "source": [
    "# Illustrate missing data\n",
    "msno.matrix(features_df)"
   ]
  },
  {
   "cell_type": "code",
   "execution_count": 250,
   "id": "3bed4892",
   "metadata": {},
   "outputs": [],
   "source": [
    "features = features_df.drop(['uninsured','state_fips_code','state_abbreviation', 'name'], axis = 1)\n",
    "features_list = features_df.drop(['uninsured','state_fips_code', 'state_abbreviation'], axis = 1).columns.to_list()\n",
    "imp = SimpleImputer()\n",
    "features = imp.fit_transform(features)\n",
    "\n",
    "labels = np.array(features_df['uninsured'])\n",
    "\n",
    "\n"
   ]
  },
  {
   "cell_type": "code",
   "execution_count": 251,
   "id": "4313a920",
   "metadata": {},
   "outputs": [
    {
     "data": {
      "text/plain": [
       "'\\n# Computing Variance Inflation Factors\\nsub_df = pd.DataFrame(data=features, columns=features_list)\\nvif_data_copy = sub_df.copy()\\n\\n\\nwhile not vif_data_copy.empty:\\n    print(\"entered\")\\n    interesting_vars = sub_df.columns.to_list()\\n    X = sub_df[interesting_vars]\\n\\n    # VIF dataframe\\n    print(\"entered again\")\\n    vif_data = pd.DataFrame()\\n    vif_data[\"feature\"] = X.columns\\n\\n    # calculating VIF for each feature\\n    \\n    vif_data[\"VIF\"] = [variance_inflation_factor(X.values, i)\\n                              for i in range(len(X.columns))]\\n\\n    print(vif_data)\\n\\n    if float(\\'inf\\') in vif_data[\"VIF\"].unique():\\n        feature_list = vif_data[vif_data[\\'VIF\\']==float(\"inf\")].feature.to_list()\\n        sub_df = sub_df.drop(columns=feature_list[0])\\n        vif_data_copy = vif_data[vif_data.feature!= feature_list[0]]\\n    elif ~ vif_data[vif_data[\\'VIF\\'] >= 5].empty:\\n        feature_list = vif_data[vif_data[\\'VIF\\']>= 5].feature.to_list()\\n        sub_df = sub_df.drop(columns=feature_list[0])\\n        vif_data_copy = vif_data[vif_data.feature!= feature_list[0]]\\n    else:\\n        vif_data_copy = pd.DataFrame()\\n\\nsub_df\\n'"
      ]
     },
     "execution_count": 251,
     "metadata": {},
     "output_type": "execute_result"
    }
   ],
   "source": [
    "\"\"\"\n",
    "# Computing Variance Inflation Factors\n",
    "sub_df = pd.DataFrame(data=features, columns=features_list)\n",
    "vif_data_copy = sub_df.copy()\n",
    "\n",
    "\n",
    "while not vif_data_copy.empty:\n",
    "    print(\"entered\")\n",
    "    interesting_vars = sub_df.columns.to_list()\n",
    "    X = sub_df[interesting_vars]\n",
    "\n",
    "    # VIF dataframe\n",
    "    print(\"entered again\")\n",
    "    vif_data = pd.DataFrame()\n",
    "    vif_data[\"feature\"] = X.columns\n",
    "\n",
    "    # calculating VIF for each feature\n",
    "    \n",
    "    vif_data[\"VIF\"] = [variance_inflation_factor(X.values, i)\n",
    "                              for i in range(len(X.columns))]\n",
    "\n",
    "    print(vif_data)\n",
    "\n",
    "    if float('inf') in vif_data[\"VIF\"].unique():\n",
    "        feature_list = vif_data[vif_data['VIF']==float(\"inf\")].feature.to_list()\n",
    "        sub_df = sub_df.drop(columns=feature_list[0])\n",
    "        vif_data_copy = vif_data[vif_data.feature!= feature_list[0]]\n",
    "    elif ~ vif_data[vif_data['VIF'] >= 5].empty:\n",
    "        feature_list = vif_data[vif_data['VIF']>= 5].feature.to_list()\n",
    "        sub_df = sub_df.drop(columns=feature_list[0])\n",
    "        vif_data_copy = vif_data[vif_data.feature!= feature_list[0]]\n",
    "    else:\n",
    "        vif_data_copy = pd.DataFrame()\n",
    "\n",
    "sub_df\n",
    "\"\"\""
   ]
  },
  {
   "cell_type": "code",
   "execution_count": 252,
   "id": "8a9eed26",
   "metadata": {},
   "outputs": [],
   "source": [
    "train_features, test_features, train_labels, test_labels = \\\n",
    "train_test_split(features, labels, test_size = 0.20, random_state = 42, stratify=features_df.state_abbreviation)\n"
   ]
  },
  {
   "cell_type": "code",
   "execution_count": 253,
   "id": "51a8db10",
   "metadata": {},
   "outputs": [
    {
     "data": {
      "text/plain": [
       "RandomForestRegressor(random_state=42)"
      ]
     },
     "execution_count": 253,
     "metadata": {},
     "output_type": "execute_result"
    }
   ],
   "source": [
    "# Random forest regressor\n",
    "rf = RandomForestRegressor(n_estimators = 100, random_state = 42)\n",
    "rf.fit(train_features, train_labels)"
   ]
  },
  {
   "cell_type": "code",
   "execution_count": 254,
   "id": "1e851202",
   "metadata": {},
   "outputs": [
    {
     "name": "stdout",
     "output_type": "stream",
     "text": [
      "Mean Absolute Error: 0.02 percent.\n"
     ]
    }
   ],
   "source": [
    "# Use the forest's predict method on the test data\n",
    "predictions = rf.predict(test_features)\n",
    "# Calculate the absolute errors\n",
    "errors = abs(predictions - test_labels)\n",
    "# Print out the mean absolute error (mae)\n",
    "print('Mean Absolute Error:', round(np.mean(errors), 2), 'percent.')"
   ]
  },
  {
   "cell_type": "code",
   "execution_count": 255,
   "id": "f87d85f0",
   "metadata": {},
   "outputs": [
    {
     "name": "stdout",
     "output_type": "stream",
     "text": [
      "Accuracy: 82.08 %.\n"
     ]
    }
   ],
   "source": [
    "# Calculate mean absolute percentage error (MAPE)\n",
    "mape = 100 * (errors / test_labels)\n",
    "# Calculate and display accuracy\n",
    "accuracy = 100 - np.mean(mape)\n",
    "print('Accuracy:', round(accuracy, 2), '%.')"
   ]
  },
  {
   "cell_type": "code",
   "execution_count": 257,
   "id": "754ce430",
   "metadata": {},
   "outputs": [],
   "source": [
    "name = features[:, features_list.index('name')]\n",
    "test_name = test_features[:, features_list.index('name')]\n",
    "\n",
    "\n",
    "# Dataframe with true values\n",
    "true_data = pd.DataFrame(data = {'county_name': test_name, 'actual': test_labels})\n",
    "true_data.actual = true_data.actual.apply(lambda x: x * 100.0)\n",
    "\n",
    "# Dataframe with predictions\n",
    "predictions_data = pd.DataFrame(data = {'county_name': test_name, 'prediction': predictions})\n",
    "predictions_data.prediction = predictions_data.prediction.apply(lambda x: x * 100.0)"
   ]
  },
  {
   "cell_type": "code",
   "execution_count": 263,
   "id": "55348a63",
   "metadata": {},
   "outputs": [
    {
     "data": {
      "image/png": "[encoded data removed]",
      "text/plain": [
       "<Figure size 432x288 with 1 Axes>"
      ]
     },
     "metadata": {
      "needs_background": "light"
     },
     "output_type": "display_data"
    }
   ],
   "source": [
    "# Plot the actual values\n",
    "plt.plot(true_data['county_name'], true_data['actual'], 'bo', label = 'actual', markerfacecolor='none')\n",
    "# Plot the predicted values\n",
    "plt.plot(predictions_data['county_name'], predictions_data['prediction'], 'ro', label = 'prediction',\n",
    "        markerfacecolor='none')\n",
    "\n",
    "plt.xticks([]); \n",
    "plt.legend()\n",
    "# Graph labels\n",
    "plt.xlabel('Individual Counties'); plt.ylabel('Uninsured %'); plt.title('Actual Test Data and Predicted Values for {}'.format('US'))\n",
    "plt.savefig(\"Data/Random_Forest_Results/Predictions_Scatter/us_actual_predictions_scatter.png\")"
   ]
  },
  {
   "cell_type": "markdown",
   "id": "db1d98da",
   "metadata": {},
   "source": [
    "Source: https://scikit-learn.org/stable/auto_examples/ensemble/plot_forest_importances.html"
   ]
  },
  {
   "cell_type": "code",
   "execution_count": 259,
   "id": "7527f8fc",
   "metadata": {},
   "outputs": [
    {
     "data": {
      "text/plain": [
       "array([0.00252729, 0.00877359, 0.0030356 , 0.00968133, 0.00444781,\n",
       "       0.00466092, 0.00917535, 0.00606539, 0.0112568 , 0.00587565,\n",
       "       0.06535778, 0.00445425, 0.00364358, 0.00673201, 0.00191305,\n",
       "       0.0022649 , 0.00341597, 0.00341308, 0.00995551, 0.04081861,\n",
       "       0.00429273, 0.00952847, 0.00269111, 0.0106353 , 0.04481601,\n",
       "       0.01154739, 0.00527985, 0.00248883, 0.0034335 , 0.00352118,\n",
       "       0.00375075, 0.004025  , 0.00655897, 0.00413513, 0.01054916,\n",
       "       0.0005984 , 0.00332118, 0.00710908, 0.0171135 , 0.00552163,\n",
       "       0.01383054, 0.00393575, 0.00319264, 0.00264881, 0.00293808,\n",
       "       0.00321311, 0.00378906, 0.00296906, 0.01056489, 0.00386405,\n",
       "       0.06443705, 0.03681427, 0.00180342, 0.00278543, 0.00631579,\n",
       "       0.0035375 , 0.00377174, 0.05669221, 0.00341321, 0.00351542,\n",
       "       0.00439914, 0.01190426, 0.00940821, 0.00788452, 0.01535558,\n",
       "       0.04281897, 0.0052556 , 0.00425384, 0.02190234, 0.21858285,\n",
       "       0.0436682 , 0.00378759, 0.00836123])"
      ]
     },
     "execution_count": 259,
     "metadata": {},
     "output_type": "execute_result"
    }
   ],
   "source": [
    "importances = rf.feature_importances_\n",
    "importances"
   ]
  },
  {
   "cell_type": "code",
   "execution_count": 260,
   "id": "51c32a75",
   "metadata": {},
   "outputs": [],
   "source": [
    "features_list.remove('name')"
   ]
  },
  {
   "cell_type": "code",
   "execution_count": 261,
   "id": "185ef6cf",
   "metadata": {},
   "outputs": [
    {
     "data": {
      "text/plain": [
       "%_non_hispanic_white                                 0.218583\n",
       "excessive_drinking                                   0.065358\n",
       "motor_vehicle_crash_deaths                           0.064437\n",
       "children_eligible_for_free_or_reduced_price_lunch    0.056692\n",
       "some_college                                         0.044816\n",
       "%_not_proficient_in_english                          0.043668\n",
       "%_american_indian_and_alaskan_native                 0.042819\n",
       "ratio_of_population_to_mental_health_providers       0.040819\n",
       "insufficient_sleep                                   0.036814\n",
       "%_hispanic                                           0.021902\n",
       "dtype: float64"
      ]
     },
     "execution_count": 261,
     "metadata": {},
     "output_type": "execute_result"
    }
   ],
   "source": [
    "forest_importances = pd.Series(importances, index=features_list)\n",
    "forest_importances = forest_importances.sort_values(ascending=False).head(10)\n",
    "std = np.std([\n",
    "    tree.feature_importances_ for tree in rf.estimators_], axis=0)\n",
    "forest_importances"
   ]
  },
  {
   "cell_type": "code",
   "execution_count": 262,
   "id": "c7efd8b2",
   "metadata": {},
   "outputs": [
    {
     "name": "stderr",
     "output_type": "stream",
     "text": [
      "<ipython-input-262-ac285af466c6>:5: UserWarning: Tight layout not applied. The bottom and top margins cannot be made large enough to accommodate all axes decorations. \n",
      "  fig.tight_layout()\n"
     ]
    },
    {
     "data": {
      "image/png": "[encoded data removed]",
      "text/plain": [
       "<Figure size 432x288 with 1 Axes>"
      ]
     },
     "metadata": {
      "needs_background": "light"
     },
     "output_type": "display_data"
    }
   ],
   "source": [
    "fig, ax = plt.subplots()\n",
    "forest_importances.plot.bar(ax=ax)\n",
    "ax.set_title(\"US Feature importances using MDI\")\n",
    "ax.set_ylabel(\"Mean decrease in impurity\")\n",
    "fig.tight_layout()\n",
    "plt.savefig('Data/Random_Forest_Results/Feature_Importance/us_feature_importance_bar.png')"
   ]
  },
  {
   "cell_type": "code",
   "execution_count": null,
   "id": "0b5cab09",
   "metadata": {},
   "outputs": [],
   "source": []
  }
 ],
 "metadata": {
  "kernelspec": {
   "display_name": "Python 3",
   "language": "python",
   "name": "python3"
  },
  "language_info": {
   "codemirror_mode": {
    "name": "ipython",
    "version": 3
   },
   "file_extension": ".py",
   "mimetype": "text/x-python",
   "name": "python",
   "nbconvert_exporter": "python",
   "pygments_lexer": "ipython3",
   "version": "3.8.8"
  }
 },
 "nbformat": 4,
 "nbformat_minor": 5
}
