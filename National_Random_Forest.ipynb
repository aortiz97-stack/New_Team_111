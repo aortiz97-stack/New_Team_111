{
 "cells": [
  {
   "cell_type": "markdown",
   "id": "67f64ff6",
   "metadata": {},
   "source": [
    "Source: https://towardsdatascience.com/random-forest-in-python-24d0893d51c0"
   ]
  },
  {
   "cell_type": "code",
   "execution_count": 269,
   "id": "c6f565be",
   "metadata": {},
   "outputs": [],
   "source": [
    "import pandas as pd\n",
    "import random\n",
    "import numpy as np\n",
    "import matplotlib.pyplot as plt\n",
    "import pingouin as pg\n",
    "import scipy.stats\n",
    "import seaborn as sns\n",
    "from statsmodels.stats.outliers_influence import variance_inflation_factor\n",
    "from sklearn.model_selection import train_test_split\n",
    "from sklearn.ensemble import RandomForestRegressor\n",
    "from sklearn.experimental import enable_iterative_imputer\n",
    "from sklearn.impute import IterativeImputer\n",
    "from sklearn.impute import SimpleImputer\n",
    "from sklearn.datasets import make_regression\n",
    "from collections import defaultdict\n",
    "import missingno as msno\n"
   ]
  },
  {
   "cell_type": "code",
   "execution_count": 270,
   "id": "5cc626ad",
   "metadata": {},
   "outputs": [],
   "source": [
    "state_list = ['Alabama',\n",
    "'Alaska',\n",
    "'Arizona',\n",
    "'Arkansas',\n",
    "'California',\n",
    "'Colorado',\n",
    "'Connecticut',\n",
    "'Delaware',\n",
    "'Florida',\n",
    "'Georgia',\n",
    "'Hawaii',\n",
    "'Idaho',\n",
    "'Illinois',\n",
    "'Indiana',\n",
    "'Iowa',\n",
    "'Kansas',\n",
    "'Kentucky',\n",
    "'Louisiana',\n",
    "'Maine',\n",
    "'Maryland',\n",
    "'Massachusetts',\n",
    "'Michigan',\n",
    "'Minnesota',\n",
    "'Mississippi',\n",
    "'Missouri',\n",
    "'Montana', \n",
    "'Nebraska',\n",
    "'Nevada',\n",
    "'New Hampshire',\n",
    "'New Jersey',\n",
    "'New Mexico',\n",
    "'New York',\n",
    "'North Carolina',\n",
    "'North Dakota',\n",
    "'Ohio',\n",
    "'Oklahoma',\n",
    "'Oregon',\n",
    "'Pennsylvania',\n",
    "'Rhode Island',\n",
    "'South Carolina',\n",
    "'South Dakota',\n",
    "'Tennessee',\n",
    "'Texas',\n",
    "'Utah',\n",
    "'Vermont',\n",
    "'Virginia',\n",
    "'Washington',\n",
    "'West Virginia',\n",
    "'Wisconsin',\n",
    "'Wyoming', 'District of Columbia', 'United States']"
   ]
  },
  {
   "cell_type": "code",
   "execution_count": 271,
   "id": "afc58bb1",
   "metadata": {},
   "outputs": [],
   "source": [
    "df = pd.read_csv('Data/county_data_clean.csv').drop(columns='Unnamed: 0')\n",
    "\n",
    "df = df[~(df.name.apply(lambda x: x in state_list))]\n",
    "df['5_digit_fips_code'] = df['5_digit_fips_code'].apply(lambda x: str(x))"
   ]
  },
  {
   "cell_type": "code",
   "execution_count": 272,
   "id": "c2c7d0ab",
   "metadata": {},
   "outputs": [
    {
     "data": {
      "text/plain": [
       "['premature_death',\n",
       " 'premature_death_black',\n",
       " 'premature_death_hispanic',\n",
       " 'premature_death_white',\n",
       " 'poor_physical_health_days',\n",
       " 'poor_mental_health_days',\n",
       " 'food_environment_index',\n",
       " 'sexually_transmitted_infections',\n",
       " 'teen_births',\n",
       " 'teen_births_black',\n",
       " 'teen_births_hispanic',\n",
       " 'teen_births_white',\n",
       " 'ratio_of_population_to_primary_care_physicians',\n",
       " 'ratio_of_population_to_dentists',\n",
       " 'ratio_of_population_to_mental_health_providers',\n",
       " 'preventable_hospital_stays',\n",
       " 'preventable_hospital_stays_black',\n",
       " 'preventable_hospital_stays_hispanic',\n",
       " 'preventable_hospital_stays_white',\n",
       " 'income_inequality',\n",
       " 'social_associations',\n",
       " 'violent_crime',\n",
       " 'injury_deaths',\n",
       " 'air_pollution__particulate_matter',\n",
       " 'life_expectancy',\n",
       " 'life_expectancy_black',\n",
       " 'life_expectancy_hispanic',\n",
       " 'life_expectancy_white',\n",
       " 'premature_age_adjusted_mortality',\n",
       " 'premature_age_adjusted_mortality_black',\n",
       " 'premature_age_adjusted_mortality_hispanic',\n",
       " 'premature_age_adjusted_mortality_white',\n",
       " 'child_mortality',\n",
       " 'child_mortality_black',\n",
       " 'child_mortality_hispanic',\n",
       " 'child_mortality_white',\n",
       " 'infant_mortality',\n",
       " 'infant_mortality_black',\n",
       " 'infant_mortality_hispanic',\n",
       " 'infant_mortality_white',\n",
       " 'hiv_prevalence',\n",
       " 'drug_overdose_deaths',\n",
       " 'motor_vehicle_crash_deaths',\n",
       " 'ratio_of_population_to_primary_care_providers_other_than_physicians',\n",
       " 'median_household_income',\n",
       " 'median_household_income_black',\n",
       " 'median_household_income_hispanic',\n",
       " 'median_household_income_white',\n",
       " 'residential_segregation__black_white',\n",
       " 'residential_segregation__non_white_white',\n",
       " 'homicides',\n",
       " 'firearm_fatalities',\n",
       " 'population',\n",
       " 'communicable_disease',\n",
       " 'self_inflicted_injury_hospitalizations',\n",
       " 'cancer_incidence',\n",
       " 'coronary_heart_disease_hospitalizations',\n",
       " 'cerebrovascular_disease_hospitalizations',\n",
       " 'drug_arrests',\n",
       " 'opioid_hospital_visits',\n",
       " 'alcohol_related_hospitalizations',\n",
       " 'motor_vehicle_crash_occupancy_rate',\n",
       " 'on_road_motor_vehicle_crash_related_er_visits',\n",
       " 'off_road_motor_vehicle_crash_related_er_visits',\n",
       " 'w_2_enrollment',\n",
       " 'hate_crimes',\n",
       " 'child_abuse',\n",
       " 'injury_hospitalizations',\n",
       " 'fall_fatalities_65',\n",
       " 'male_population_0_17',\n",
       " 'male_population_18_44',\n",
       " 'male_population_45_64',\n",
       " 'male_population_65',\n",
       " 'total_male_population',\n",
       " 'female_population_0_17',\n",
       " 'female_population_18_44',\n",
       " 'female_population_45_64',\n",
       " 'female_population_65',\n",
       " 'total_female_population']"
      ]
     },
     "execution_count": 272,
     "metadata": {},
     "output_type": "execute_result"
    }
   ],
   "source": [
    "non_normalized_columns = []\n",
    "\n",
    "for column in df.columns:\n",
    "    if column not in ['state_fips_code','county_fips_code','5_digit_fips_code', 'state_abbreviation','name']:\n",
    "        if (df[column].values > 1.0).any():\n",
    "            non_normalized_columns.append(column)\n",
    "\n",
    "\n",
    "non_normalized_columns"
   ]
  },
  {
   "cell_type": "code",
   "execution_count": 273,
   "id": "7ecd9edd",
   "metadata": {},
   "outputs": [
    {
     "data": {
      "text/plain": [
       "(3141, 77)"
      ]
     },
     "execution_count": 273,
     "metadata": {},
     "output_type": "execute_result"
    }
   ],
   "source": [
    "features_df = df.drop(['uninsured_adults', 'uninsured_children', 'county_fips_code',\n",
    "                   '5_digit_fips_code'], axis = 1)\n",
    "# Replacing missing value of uninsured with mean of uninsured\n",
    "features_df['uninsured'] = features_df.uninsured.replace([float(\"nan\")], features_df.uninsured.mean())\n",
    "\n",
    "for column in features_df.columns:\n",
    "    na_sum= (features_df[column].isna().sum())\n",
    "    column_size = (features_df[column].size)\n",
    "    if (features_df[column].isna().sum()/features_df[column].size) > 0.25:\n",
    "        features_df = features_df.drop(columns=column)\n",
    "features_df.shape"
   ]
  },
  {
   "cell_type": "code",
   "execution_count": 274,
   "id": "5bddc0e3",
   "metadata": {},
   "outputs": [],
   "source": [
    "state_groupby = features_df.groupby('state_abbreviation').count()"
   ]
  },
  {
   "cell_type": "code",
   "execution_count": 275,
   "id": "29b47535",
   "metadata": {},
   "outputs": [
    {
     "name": "stdout",
     "output_type": "stream",
     "text": [
      "high_school_graduation is not useful for ND: 0.24528301886792453\n",
      "air_pollution__particulate_matter is not useful for AK: 0.0\n",
      "air_pollution__particulate_matter is not useful for HI: 0.0\n",
      "drinking_water_violations is not useful for HI: 0.0\n",
      "hiv_prevalence is not useful for ND: 0.22641509433962265\n",
      "hiv_prevalence is not useful for NE: 0.12903225806451613\n",
      "hiv_prevalence is not useful for SD: 0.0\n",
      "motor_vehicle_crash_deaths is not useful for AK: 0.2413793103448276\n",
      "children_eligible_for_free_or_reduced_price_lunch is not useful for DE: 0.0\n",
      "children_eligible_for_free_or_reduced_price_lunch is not useful for MA: 0.0\n",
      "children_eligible_for_free_or_reduced_price_lunch is not useful for TN: 0.0\n"
     ]
    }
   ],
   "source": [
    "state_groupby = features_df.groupby('state_abbreviation').count()\n",
    "null_count_dict = defaultdict(int)\n",
    "\n",
    "for column in state_groupby.columns:\n",
    "    null_count_dict[column] = 0\n",
    "    for state in state_groupby.index:\n",
    "        value = state_groupby.loc[state][column]\n",
    "        size = state_groupby.loc[state]['state_fips_code']\n",
    "        if (value/size) <= 0.25:\n",
    "            print(\"{0} is not useful for {1}: {2}\".format(column, state, str(value/size)))\n",
    "            null_count_dict[column] += 1\n",
    "            \n",
    "exclude_features = []\n",
    "for feature, null_count in null_count_dict.items():\n",
    "    if null_count > 13:\n",
    "        exclude_features.append(feature.strip(\"\"))"
   ]
  },
  {
   "cell_type": "code",
   "execution_count": 276,
   "id": "e0e10aea",
   "metadata": {},
   "outputs": [],
   "source": [
    "features_df = features_df.drop(columns = exclude_features)"
   ]
  },
  {
   "cell_type": "code",
   "execution_count": 277,
   "id": "ff75ff6a",
   "metadata": {},
   "outputs": [],
   "source": [
    "# Drop indices that has more than 25% data\n",
    "exclude_indices = []\n",
    "for index in features_df.index:\n",
    "    series = features_df.drop(columns=['state_fips_code', 'state_abbreviation', 'name']).loc[index]\n",
    "    null_count = len(series[series.isnull()])\n",
    "    series_size = len(series)\n",
    "    if (null_count/series_size) >= 0.25:\n",
    "        exclude_indices.append(index)\n",
    "\n",
    "features_df = features_df.drop(index=exclude_indices)"
   ]
  },
  {
   "cell_type": "code",
   "execution_count": 278,
   "id": "85d0b942",
   "metadata": {},
   "outputs": [
    {
     "data": {
      "text/plain": [
       "<AxesSubplot:>"
      ]
     },
     "execution_count": 278,
     "metadata": {},
     "output_type": "execute_result"
    },
    {
     "data": {
      "image/png": "[encoded data removed]",
      "text/plain": [
       "<Figure size 1800x720 with 2 Axes>"
      ]
     },
     "metadata": {
      "needs_background": "light"
     },
     "output_type": "display_data"
    }
   ],
   "source": [
    "# Illustrate missing data\n",
    "msno.matrix(features_df)"
   ]
  },
  {
   "cell_type": "code",
   "execution_count": 279,
   "id": "3bed4892",
   "metadata": {},
   "outputs": [],
   "source": [
    "features = features_df.drop(['uninsured','state_fips_code','state_abbreviation', 'name'], axis = 1)\n",
    "features_list = features_df.drop(['uninsured','state_fips_code', 'state_abbreviation'], axis = 1).columns.to_list()\n",
    "imp = SimpleImputer()\n",
    "features = imp.fit_transform(features)\n",
    "\n",
    "labels = np.array(features_df['uninsured'])\n",
    "\n",
    "\n",
    "\n"
   ]
  },
  {
   "cell_type": "code",
   "execution_count": 281,
   "id": "8a9eed26",
   "metadata": {},
   "outputs": [],
   "source": [
    "train_features, test_features, train_labels, test_labels = \\\n",
    "train_test_split(features, labels, test_size = 0.20, random_state = 42, stratify=features_df.state_abbreviation)\n"
   ]
  },
  {
   "cell_type": "code",
   "execution_count": 282,
   "id": "51a8db10",
   "metadata": {},
   "outputs": [
    {
     "data": {
      "text/plain": [
       "RandomForestRegressor(random_state=42)"
      ]
     },
     "execution_count": 282,
     "metadata": {},
     "output_type": "execute_result"
    }
   ],
   "source": [
    "# Random forest regressor\n",
    "rf = RandomForestRegressor(n_estimators = 100, random_state = 42)\n",
    "rf.fit(train_features, train_labels)"
   ]
  },
  {
   "cell_type": "code",
   "execution_count": 283,
   "id": "1e851202",
   "metadata": {},
   "outputs": [
    {
     "name": "stdout",
     "output_type": "stream",
     "text": [
      "Mean Absolute Error: 0.02 percent.\n"
     ]
    }
   ],
   "source": [
    "# Use the forest's predict method on the test data\n",
    "predictions = rf.predict(test_features)\n",
    "# Calculate the absolute errors\n",
    "errors = abs(predictions - test_labels)\n",
    "# Print out the mean absolute error (mae)\n",
    "print('Mean Absolute Error:', round(np.mean(errors), 2), 'percent.')"
   ]
  },
  {
   "cell_type": "code",
   "execution_count": 284,
   "id": "f87d85f0",
   "metadata": {},
   "outputs": [
    {
     "name": "stdout",
     "output_type": "stream",
     "text": [
      "Accuracy: 82.32 %.\n"
     ]
    }
   ],
   "source": [
    "# Calculate mean absolute percentage error (MAPE)\n",
    "mape = 100 * (errors / test_labels)\n",
    "# Calculate and display accuracy\n",
    "accuracy = 100 - np.mean(mape)\n",
    "print('Accuracy:', round(accuracy, 2), '%.')"
   ]
  },
  {
   "cell_type": "code",
   "execution_count": 285,
   "id": "754ce430",
   "metadata": {},
   "outputs": [],
   "source": [
    "name = features[:, features_list.index('name')]\n",
    "test_name = test_features[:, features_list.index('name')]\n",
    "\n",
    "\n",
    "# Dataframe with true values\n",
    "true_data = pd.DataFrame(data = {'county_name': test_name, 'actual': test_labels})\n",
    "true_data.actual = true_data.actual.apply(lambda x: x * 100.0)\n",
    "\n",
    "# Dataframe with predictions\n",
    "predictions_data = pd.DataFrame(data = {'county_name': test_name, 'prediction': predictions})\n",
    "predictions_data.prediction = predictions_data.prediction.apply(lambda x: x * 100.0)"
   ]
  },
  {
   "cell_type": "code",
   "execution_count": 286,
   "id": "55348a63",
   "metadata": {},
   "outputs": [
    {
     "data": {
      "image/png": "[encoded data removed]",
      "text/plain": [
       "<Figure size 432x288 with 1 Axes>"
      ]
     },
     "metadata": {
      "needs_background": "light"
     },
     "output_type": "display_data"
    }
   ],
   "source": [
    "# Plot the actual values\n",
    "plt.plot(true_data['county_name'], true_data['actual'], 'bo', label = 'actual', markerfacecolor='none')\n",
    "# Plot the predicted values\n",
    "plt.plot(predictions_data['county_name'], predictions_data['prediction'], 'ro', label = 'prediction',\n",
    "        markerfacecolor='none')\n",
    "\n",
    "plt.xticks([]); \n",
    "plt.legend()\n",
    "# Graph labels\n",
    "plt.xlabel('Individual Counties'); plt.ylabel('Uninsured %'); plt.title('Actual Test Data and Predicted Values for {}'.format('US'))\n",
    "plt.savefig(\"Data/Random_Forest_Results/Predictions_Scatter/us_actual_predictions_scatter.png\")"
   ]
  },
  {
   "cell_type": "markdown",
   "id": "db1d98da",
   "metadata": {},
   "source": [
    "Source: https://scikit-learn.org/stable/auto_examples/ensemble/plot_forest_importances.html"
   ]
  },
  {
   "cell_type": "code",
   "execution_count": 287,
   "id": "7527f8fc",
   "metadata": {},
   "outputs": [
    {
     "data": {
      "text/plain": [
       "array([0.00216219, 0.00978388, 0.00232214, 0.00743284, 0.00553511,\n",
       "       0.0039961 , 0.01011335, 0.00485965, 0.0143723 , 0.00615559,\n",
       "       0.06064131, 0.0049297 , 0.00365843, 0.00854744, 0.0023908 ,\n",
       "       0.00273351, 0.00803517, 0.00349705, 0.01264618, 0.03713471,\n",
       "       0.00503614, 0.01042272, 0.00286323, 0.01536126, 0.03804474,\n",
       "       0.01063564, 0.00827531, 0.00288367, 0.00262261, 0.0033196 ,\n",
       "       0.00395407, 0.0039624 , 0.00610392, 0.00360646, 0.0118509 ,\n",
       "       0.00043848, 0.0030839 , 0.00462365, 0.01890484, 0.00403125,\n",
       "       0.01165331, 0.00485201, 0.00294503, 0.00278132, 0.00323936,\n",
       "       0.00255365, 0.00368157, 0.00286537, 0.00861411, 0.00310437,\n",
       "       0.06069081, 0.03012313, 0.00227192, 0.00222411, 0.0058378 ,\n",
       "       0.00330631, 0.00355505, 0.07426342, 0.00305827, 0.00391675,\n",
       "       0.00307939, 0.0106279 , 0.00738084, 0.00619812, 0.01780258,\n",
       "       0.04170924, 0.00717676, 0.00353685, 0.03128806, 0.21084318,\n",
       "       0.04181719, 0.00402368, 0.00800632])"
      ]
     },
     "execution_count": 287,
     "metadata": {},
     "output_type": "execute_result"
    }
   ],
   "source": [
    "importances = rf.feature_importances_\n",
    "importances"
   ]
  },
  {
   "cell_type": "code",
   "execution_count": 288,
   "id": "51c32a75",
   "metadata": {},
   "outputs": [],
   "source": [
    "features_list.remove('name')"
   ]
  },
  {
   "cell_type": "code",
   "execution_count": 289,
   "id": "185ef6cf",
   "metadata": {},
   "outputs": [
    {
     "data": {
      "text/plain": [
       "%_non_hispanic_white                                 0.210843\n",
       "children_eligible_for_free_or_reduced_price_lunch    0.074263\n",
       "motor_vehicle_crash_deaths                           0.060691\n",
       "excessive_drinking                                   0.060641\n",
       "%_not_proficient_in_english                          0.041817\n",
       "%_american_indian_and_alaskan_native                 0.041709\n",
       "some_college                                         0.038045\n",
       "ratio_of_population_to_mental_health_providers       0.037135\n",
       "%_hispanic                                           0.031288\n",
       "insufficient_sleep                                   0.030123\n",
       "dtype: float64"
      ]
     },
     "execution_count": 289,
     "metadata": {},
     "output_type": "execute_result"
    }
   ],
   "source": [
    "forest_importances = pd.Series(importances, index=features_list)\n",
    "forest_importances = forest_importances.sort_values(ascending=False).head(10)\n",
    "std = np.std([\n",
    "    tree.feature_importances_ for tree in rf.estimators_], axis=0)\n",
    "forest_importances"
   ]
  },
  {
   "cell_type": "code",
   "execution_count": 290,
   "id": "c7efd8b2",
   "metadata": {},
   "outputs": [
    {
     "name": "stderr",
     "output_type": "stream",
     "text": [
      "<ipython-input-290-ac285af466c6>:5: UserWarning: Tight layout not applied. The bottom and top margins cannot be made large enough to accommodate all axes decorations. \n",
      "  fig.tight_layout()\n"
     ]
    },
    {
     "data": {
      "image/png": "[encoded data removed]",
      "text/plain": [
       "<Figure size 432x288 with 1 Axes>"
      ]
     },
     "metadata": {
      "needs_background": "light"
     },
     "output_type": "display_data"
    }
   ],
   "source": [
    "fig, ax = plt.subplots()\n",
    "forest_importances.plot.bar(ax=ax)\n",
    "ax.set_title(\"US Feature importances using MDI\")\n",
    "ax.set_ylabel(\"Mean decrease in impurity\")\n",
    "fig.tight_layout()\n",
    "plt.savefig('Data/Random_Forest_Results/Feature_Importance/us_feature_importance_bar.png')"
   ]
  },
  {
   "cell_type": "code",
   "execution_count": 291,
   "id": "d8738683",
   "metadata": {},
   "outputs": [],
   "source": [
    "most_important_col = forest_importances[forest_importances == forest_importances.max()].index.to_list()[0]\n",
    "top_10_col = forest_importances.index.to_list() + ['uninsured']\n"
   ]
  },
  {
   "cell_type": "code",
   "execution_count": 292,
   "id": "a7ca02a5",
   "metadata": {},
   "outputs": [],
   "source": [
    "analysis_features = features_df.drop(columns = ['state_fips_code','state_abbreviation', 'name'])\n",
    "analysis_features_list = features_df.drop(columns = ['state_fips_code','state_abbreviation']).columns.to_list()\n",
    "analysis_features = imp.fit_transform(analysis_features)\n",
    "\n",
    "name = analysis_features[:, analysis_features_list.index('name')]\n",
    "\n",
    "analysis_features_list.remove('name')\n",
    "\n",
    "analysis_data = pd.DataFrame(analysis_features, index=name, columns = analysis_features_list )"
   ]
  },
  {
   "cell_type": "code",
   "execution_count": 293,
   "id": "67b12096",
   "metadata": {},
   "outputs": [
    {
     "data": {
      "image/png": "[encoded data removed]",
      "text/plain": [
       "<Figure size 432x288 with 2 Axes>"
      ]
     },
     "metadata": {
      "needs_background": "light"
     },
     "output_type": "display_data"
    }
   ],
   "source": [
    "# Look at correlation between top ten features and uninsured\n",
    "corr = analysis_data[top_10_col].corr()\n",
    "plt.title(\"Correlation Between Top 10 Important Features and Uninsured\")\n",
    "sns.heatmap(corr.loc[top_10_col])\n",
    "plt.show()\n",
    "plt.close()"
   ]
  },
  {
   "cell_type": "code",
   "execution_count": 294,
   "id": "c5e9706b",
   "metadata": {},
   "outputs": [],
   "source": [
    "def low_high(rate):\n",
    "    maximum = analysis_data[most_important_col].max()\n",
    "    minimum = analysis_data[most_important_col].min()\n",
    "    rang = maximum-minimum\n",
    "    if rate < (minimum + rang/2):\n",
    "        return 'low'\n",
    "    else:\n",
    "        return 'high'\n",
    "    \n",
    "analysis_data['level'] = analysis_data[most_important_col].apply(low_high)"
   ]
  },
  {
   "cell_type": "code",
   "execution_count": 295,
   "id": "a9c93a66",
   "metadata": {},
   "outputs": [],
   "source": [
    "signif_df = analysis_data.set_index('level')"
   ]
  },
  {
   "cell_type": "code",
   "execution_count": 297,
   "id": "9ac16055",
   "metadata": {},
   "outputs": [
    {
     "name": "stdout",
     "output_type": "stream",
     "text": [
      "Column: premature_death, p-value: 1.5697672406628686e-14\n",
      "Column: poor_or_fair_health, p-value: 7.370176648473401e-76\n",
      "Column: poor_physical_health_days, p-value: 2.532640617197001e-31\n",
      "Column: poor_mental_health_days, p-value: 8.191965447047007e-08\n",
      "Column: low_birthweight, p-value: 5.950954995621717e-34\n",
      "Column: adult_smoking, p-value: 7.312111002589552e-07\n",
      "Column: adult_obesity, p-value: 0.014419959167734427\n",
      "Column: food_environment_index, p-value: 1.3403036587539348e-29\n",
      "Column: excessive_drinking, p-value: 1.9994863957665936e-23\n",
      "Column: sexually_transmitted_infections, p-value: 6.237228906471313e-52\n",
      "Column: teen_births, p-value: 3.5562999591541226e-44\n",
      "Column: uninsured, p-value: 1.4043077468262905e-46\n",
      "Column: primary_care_physicians, p-value: 0.02973035041558636\n",
      "Column: ratio_of_population_to_primary_care_physicians, p-value: 0.04597715784751441\n",
      "Column: mental_health_providers, p-value: 0.0018294224949970315\n",
      "Column: preventable_hospital_stays, p-value: 9.228171518366144e-06\n",
      "Column: mammography_screening, p-value: 9.041415336198057e-33\n",
      "Column: flu_vaccinations, p-value: 5.0396072425395274e-27\n",
      "Column: high_school_graduation, p-value: 6.758632463668643e-27\n",
      "Column: some_college, p-value: 2.2593009212291156e-29\n",
      "Column: unemployment, p-value: 5.632795879093712e-28\n",
      "Column: children_in_poverty, p-value: 1.9424821197802767e-52\n",
      "Column: income_inequality, p-value: 2.88480574107164e-36\n",
      "Column: children_in_single_parent_households, p-value: 3.9320263091081766e-60\n",
      "Column: social_associations, p-value: 4.1711984923304134e-39\n",
      "Column: violent_crime, p-value: 2.3729301950972873e-30\n",
      "Column: drinking_water_violations, p-value: 0.023454779266832915\n",
      "Column: severe_housing_problems, p-value: 1.2599044065883487e-48\n",
      "Column: percentage_of_households_with_high_housing_costs, p-value: 3.7814757334323534e-25\n",
      "Column: percentage_of_households_with_overcrowding, p-value: 2.043872351079661e-31\n",
      "Column: percentage_of_households_with_lack_of_kitchen_or_plumbing_facilities, p-value: 0.00019485993972689818\n",
      "Column: driving_alone_to_work, p-value: 2.0145090363448467e-06\n",
      "Column: life_expectancy, p-value: 4.251463904825644e-07\n",
      "Column: premature_age_adjusted_mortality, p-value: 3.214940363363459e-14\n",
      "Column: frequent_physical_distress, p-value: 8.65724755056754e-43\n",
      "Column: frequent_mental_distress, p-value: 5.559668518710403e-21\n",
      "Column: diabetes_prevalence, p-value: 0.002503933041534184\n",
      "Column: hiv_prevalence, p-value: 3.526890398761412e-30\n",
      "Column: food_insecurity, p-value: 1.3616511937367648e-25\n",
      "Column: limited_access_to_healthy_foods, p-value: 6.263459954576177e-14\n",
      "Column: motor_vehicle_crash_deaths, p-value: 2.443821809785745e-06\n",
      "Column: insufficient_sleep, p-value: 6.9203548877418126e-43\n",
      "Column: median_household_income, p-value: 1.2239589548893708e-10\n",
      "Column: median_household_income_white, p-value: 8.186564479821372e-07\n",
      "Column: children_eligible_for_free_or_reduced_price_lunch, p-value: 4.2661858333779913e-79\n",
      "Column: homeownership, p-value: 5.574629144666456e-48\n",
      "Column: severe_housing_cost_burden, p-value: 1.4994950855598695e-32\n",
      "Column: population, p-value: 7.981639814654432e-07\n",
      "Column: %_below_18_years_of_age, p-value: 2.311348238124508e-25\n",
      "Column: %_65_and_older, p-value: 1.8383451141615443e-54\n",
      "Column: %_non_hispanic_african_american, p-value: 7.490331153054856e-37\n",
      "Column: %_american_indian_and_alaskan_native, p-value: 5.963164848374827e-10\n",
      "Column: %_asian, p-value: 3.0870706326514785e-09\n",
      "Column: %_native_hawaiian_other_pacific_islander, p-value: 0.0022946679849918964\n",
      "Column: %_hispanic, p-value: 3.580287134800137e-39\n",
      "Column: %_not_proficient_in_english, p-value: 6.441045402297636e-32\n",
      "Column: %_rural, p-value: 1.102501639537009e-20\n"
     ]
    }
   ],
   "source": [
    "col_list = []\n",
    "for column in signif_df.columns:\n",
    "    if column != most_important_col:\n",
    "        stats = pg.ttest(signif_df.loc['low'][column], signif_df.loc['high'][column])\n",
    "        if stats['p-val'][0] <= 0.05:\n",
    "            print(\"Column: {}, p-value: {}\".format(column, stats['p-val'][0]))\n",
    "            col_list.append(column)\n",
    "    "
   ]
  },
  {
   "cell_type": "code",
   "execution_count": 304,
   "id": "46606535",
   "metadata": {},
   "outputs": [
    {
     "data": {
      "text/html": [
       "<div>\n",
       "<style scoped>\n",
       "    .dataframe tbody tr th:only-of-type {\n",
       "        vertical-align: middle;\n",
       "    }\n",
       "\n",
       "    .dataframe tbody tr th {\n",
       "        vertical-align: top;\n",
       "    }\n",
       "\n",
       "    .dataframe thead th {\n",
       "        text-align: right;\n",
       "    }\n",
       "</style>\n",
       "<table border=\"1\" class=\"dataframe\">\n",
       "  <thead>\n",
       "    <tr style=\"text-align: right;\">\n",
       "      <th></th>\n",
       "      <th>uninsured</th>\n",
       "      <th>uninsured</th>\n",
       "    </tr>\n",
       "  </thead>\n",
       "  <tbody>\n",
       "    <tr>\n",
       "      <th>premature_death</th>\n",
       "      <td>0.293211</td>\n",
       "      <td>0.293211</td>\n",
       "    </tr>\n",
       "    <tr>\n",
       "      <th>poor_or_fair_health</th>\n",
       "      <td>0.450383</td>\n",
       "      <td>0.450383</td>\n",
       "    </tr>\n",
       "    <tr>\n",
       "      <th>poor_physical_health_days</th>\n",
       "      <td>0.272780</td>\n",
       "      <td>0.272780</td>\n",
       "    </tr>\n",
       "    <tr>\n",
       "      <th>poor_mental_health_days</th>\n",
       "      <td>0.139857</td>\n",
       "      <td>0.139857</td>\n",
       "    </tr>\n",
       "    <tr>\n",
       "      <th>low_birthweight</th>\n",
       "      <td>0.223943</td>\n",
       "      <td>0.223943</td>\n",
       "    </tr>\n",
       "    <tr>\n",
       "      <th>adult_smoking</th>\n",
       "      <td>0.166039</td>\n",
       "      <td>0.166039</td>\n",
       "    </tr>\n",
       "    <tr>\n",
       "      <th>adult_obesity</th>\n",
       "      <td>0.045481</td>\n",
       "      <td>0.045481</td>\n",
       "    </tr>\n",
       "    <tr>\n",
       "      <th>food_environment_index</th>\n",
       "      <td>-0.386244</td>\n",
       "      <td>-0.386244</td>\n",
       "    </tr>\n",
       "    <tr>\n",
       "      <th>excessive_drinking</th>\n",
       "      <td>-0.348200</td>\n",
       "      <td>-0.348200</td>\n",
       "    </tr>\n",
       "    <tr>\n",
       "      <th>sexually_transmitted_infections</th>\n",
       "      <td>0.237991</td>\n",
       "      <td>0.237991</td>\n",
       "    </tr>\n",
       "    <tr>\n",
       "      <th>teen_births</th>\n",
       "      <td>0.506028</td>\n",
       "      <td>0.506028</td>\n",
       "    </tr>\n",
       "    <tr>\n",
       "      <th>uninsured</th>\n",
       "      <td>1.000000</td>\n",
       "      <td>1.000000</td>\n",
       "    </tr>\n",
       "    <tr>\n",
       "      <th>primary_care_physicians</th>\n",
       "      <td>-0.210160</td>\n",
       "      <td>-0.210160</td>\n",
       "    </tr>\n",
       "    <tr>\n",
       "      <th>ratio_of_population_to_primary_care_physicians</th>\n",
       "      <td>0.144188</td>\n",
       "      <td>0.144188</td>\n",
       "    </tr>\n",
       "    <tr>\n",
       "      <th>mental_health_providers</th>\n",
       "      <td>-0.133760</td>\n",
       "      <td>-0.133760</td>\n",
       "    </tr>\n",
       "    <tr>\n",
       "      <th>preventable_hospital_stays</th>\n",
       "      <td>0.124547</td>\n",
       "      <td>0.124547</td>\n",
       "    </tr>\n",
       "    <tr>\n",
       "      <th>mammography_screening</th>\n",
       "      <td>-0.428561</td>\n",
       "      <td>-0.428561</td>\n",
       "    </tr>\n",
       "    <tr>\n",
       "      <th>flu_vaccinations</th>\n",
       "      <td>-0.338641</td>\n",
       "      <td>-0.338641</td>\n",
       "    </tr>\n",
       "    <tr>\n",
       "      <th>high_school_graduation</th>\n",
       "      <td>-0.085477</td>\n",
       "      <td>-0.085477</td>\n",
       "    </tr>\n",
       "    <tr>\n",
       "      <th>some_college</th>\n",
       "      <td>-0.467194</td>\n",
       "      <td>-0.467194</td>\n",
       "    </tr>\n",
       "    <tr>\n",
       "      <th>unemployment</th>\n",
       "      <td>0.127348</td>\n",
       "      <td>0.127348</td>\n",
       "    </tr>\n",
       "    <tr>\n",
       "      <th>children_in_poverty</th>\n",
       "      <td>0.425753</td>\n",
       "      <td>0.425753</td>\n",
       "    </tr>\n",
       "    <tr>\n",
       "      <th>income_inequality</th>\n",
       "      <td>0.195536</td>\n",
       "      <td>0.195536</td>\n",
       "    </tr>\n",
       "    <tr>\n",
       "      <th>children_in_single_parent_households</th>\n",
       "      <td>0.210465</td>\n",
       "      <td>0.210465</td>\n",
       "    </tr>\n",
       "    <tr>\n",
       "      <th>social_associations</th>\n",
       "      <td>-0.058255</td>\n",
       "      <td>-0.058255</td>\n",
       "    </tr>\n",
       "    <tr>\n",
       "      <th>violent_crime</th>\n",
       "      <td>0.122333</td>\n",
       "      <td>0.122333</td>\n",
       "    </tr>\n",
       "    <tr>\n",
       "      <th>drinking_water_violations</th>\n",
       "      <td>0.073219</td>\n",
       "      <td>0.073219</td>\n",
       "    </tr>\n",
       "    <tr>\n",
       "      <th>severe_housing_problems</th>\n",
       "      <td>0.200406</td>\n",
       "      <td>0.200406</td>\n",
       "    </tr>\n",
       "    <tr>\n",
       "      <th>percentage_of_households_with_high_housing_costs</th>\n",
       "      <td>-0.043239</td>\n",
       "      <td>-0.043239</td>\n",
       "    </tr>\n",
       "    <tr>\n",
       "      <th>percentage_of_households_with_overcrowding</th>\n",
       "      <td>0.406230</td>\n",
       "      <td>0.406230</td>\n",
       "    </tr>\n",
       "    <tr>\n",
       "      <th>percentage_of_households_with_lack_of_kitchen_or_plumbing_facilities</th>\n",
       "      <td>0.187480</td>\n",
       "      <td>0.187480</td>\n",
       "    </tr>\n",
       "    <tr>\n",
       "      <th>driving_alone_to_work</th>\n",
       "      <td>-0.130761</td>\n",
       "      <td>-0.130761</td>\n",
       "    </tr>\n",
       "    <tr>\n",
       "      <th>life_expectancy</th>\n",
       "      <td>-0.222541</td>\n",
       "      <td>-0.222541</td>\n",
       "    </tr>\n",
       "    <tr>\n",
       "      <th>premature_age_adjusted_mortality</th>\n",
       "      <td>0.299277</td>\n",
       "      <td>0.299277</td>\n",
       "    </tr>\n",
       "    <tr>\n",
       "      <th>frequent_physical_distress</th>\n",
       "      <td>0.336305</td>\n",
       "      <td>0.336305</td>\n",
       "    </tr>\n",
       "    <tr>\n",
       "      <th>frequent_mental_distress</th>\n",
       "      <td>0.262748</td>\n",
       "      <td>0.262748</td>\n",
       "    </tr>\n",
       "    <tr>\n",
       "      <th>diabetes_prevalence</th>\n",
       "      <td>0.164286</td>\n",
       "      <td>0.164286</td>\n",
       "    </tr>\n",
       "    <tr>\n",
       "      <th>hiv_prevalence</th>\n",
       "      <td>0.157771</td>\n",
       "      <td>0.157771</td>\n",
       "    </tr>\n",
       "    <tr>\n",
       "      <th>food_insecurity</th>\n",
       "      <td>0.316789</td>\n",
       "      <td>0.316789</td>\n",
       "    </tr>\n",
       "    <tr>\n",
       "      <th>limited_access_to_healthy_foods</th>\n",
       "      <td>0.278193</td>\n",
       "      <td>0.278193</td>\n",
       "    </tr>\n",
       "    <tr>\n",
       "      <th>motor_vehicle_crash_deaths</th>\n",
       "      <td>0.380622</td>\n",
       "      <td>0.380622</td>\n",
       "    </tr>\n",
       "    <tr>\n",
       "      <th>insufficient_sleep</th>\n",
       "      <td>0.064051</td>\n",
       "      <td>0.064051</td>\n",
       "    </tr>\n",
       "    <tr>\n",
       "      <th>median_household_income</th>\n",
       "      <td>-0.360451</td>\n",
       "      <td>-0.360451</td>\n",
       "    </tr>\n",
       "    <tr>\n",
       "      <th>median_household_income_white</th>\n",
       "      <td>-0.191894</td>\n",
       "      <td>-0.191894</td>\n",
       "    </tr>\n",
       "    <tr>\n",
       "      <th>children_eligible_for_free_or_reduced_price_lunch</th>\n",
       "      <td>0.478107</td>\n",
       "      <td>0.478107</td>\n",
       "    </tr>\n",
       "    <tr>\n",
       "      <th>homeownership</th>\n",
       "      <td>-0.116190</td>\n",
       "      <td>-0.116190</td>\n",
       "    </tr>\n",
       "    <tr>\n",
       "      <th>severe_housing_cost_burden</th>\n",
       "      <td>-0.014549</td>\n",
       "      <td>-0.014549</td>\n",
       "    </tr>\n",
       "    <tr>\n",
       "      <th>population</th>\n",
       "      <td>-0.070329</td>\n",
       "      <td>-0.070329</td>\n",
       "    </tr>\n",
       "    <tr>\n",
       "      <th>%_below_18_years_of_age</th>\n",
       "      <td>0.234523</td>\n",
       "      <td>0.234523</td>\n",
       "    </tr>\n",
       "    <tr>\n",
       "      <th>%_65_and_older</th>\n",
       "      <td>-0.036109</td>\n",
       "      <td>-0.036109</td>\n",
       "    </tr>\n",
       "    <tr>\n",
       "      <th>%_non_hispanic_african_american</th>\n",
       "      <td>0.182134</td>\n",
       "      <td>0.182134</td>\n",
       "    </tr>\n",
       "    <tr>\n",
       "      <th>%_american_indian_and_alaskan_native</th>\n",
       "      <td>0.252475</td>\n",
       "      <td>0.252475</td>\n",
       "    </tr>\n",
       "    <tr>\n",
       "      <th>%_asian</th>\n",
       "      <td>-0.100629</td>\n",
       "      <td>-0.100629</td>\n",
       "    </tr>\n",
       "    <tr>\n",
       "      <th>%_native_hawaiian_other_pacific_islander</th>\n",
       "      <td>-0.002188</td>\n",
       "      <td>-0.002188</td>\n",
       "    </tr>\n",
       "    <tr>\n",
       "      <th>%_hispanic</th>\n",
       "      <td>0.438852</td>\n",
       "      <td>0.438852</td>\n",
       "    </tr>\n",
       "    <tr>\n",
       "      <th>%_not_proficient_in_english</th>\n",
       "      <td>0.394329</td>\n",
       "      <td>0.394329</td>\n",
       "    </tr>\n",
       "    <tr>\n",
       "      <th>%_rural</th>\n",
       "      <td>0.165596</td>\n",
       "      <td>0.165596</td>\n",
       "    </tr>\n",
       "    <tr>\n",
       "      <th>uninsured</th>\n",
       "      <td>1.000000</td>\n",
       "      <td>1.000000</td>\n",
       "    </tr>\n",
       "  </tbody>\n",
       "</table>\n",
       "</div>"
      ],
      "text/plain": [
       "                                                    uninsured  uninsured\n",
       "premature_death                                      0.293211   0.293211\n",
       "poor_or_fair_health                                  0.450383   0.450383\n",
       "poor_physical_health_days                            0.272780   0.272780\n",
       "poor_mental_health_days                              0.139857   0.139857\n",
       "low_birthweight                                      0.223943   0.223943\n",
       "adult_smoking                                        0.166039   0.166039\n",
       "adult_obesity                                        0.045481   0.045481\n",
       "food_environment_index                              -0.386244  -0.386244\n",
       "excessive_drinking                                  -0.348200  -0.348200\n",
       "sexually_transmitted_infections                      0.237991   0.237991\n",
       "teen_births                                          0.506028   0.506028\n",
       "uninsured                                            1.000000   1.000000\n",
       "primary_care_physicians                             -0.210160  -0.210160\n",
       "ratio_of_population_to_primary_care_physicians       0.144188   0.144188\n",
       "mental_health_providers                             -0.133760  -0.133760\n",
       "preventable_hospital_stays                           0.124547   0.124547\n",
       "mammography_screening                               -0.428561  -0.428561\n",
       "flu_vaccinations                                    -0.338641  -0.338641\n",
       "high_school_graduation                              -0.085477  -0.085477\n",
       "some_college                                        -0.467194  -0.467194\n",
       "unemployment                                         0.127348   0.127348\n",
       "children_in_poverty                                  0.425753   0.425753\n",
       "income_inequality                                    0.195536   0.195536\n",
       "children_in_single_parent_households                 0.210465   0.210465\n",
       "social_associations                                 -0.058255  -0.058255\n",
       "violent_crime                                        0.122333   0.122333\n",
       "drinking_water_violations                            0.073219   0.073219\n",
       "severe_housing_problems                              0.200406   0.200406\n",
       "percentage_of_households_with_high_housing_costs    -0.043239  -0.043239\n",
       "percentage_of_households_with_overcrowding           0.406230   0.406230\n",
       "percentage_of_households_with_lack_of_kitchen_o...   0.187480   0.187480\n",
       "driving_alone_to_work                               -0.130761  -0.130761\n",
       "life_expectancy                                     -0.222541  -0.222541\n",
       "premature_age_adjusted_mortality                     0.299277   0.299277\n",
       "frequent_physical_distress                           0.336305   0.336305\n",
       "frequent_mental_distress                             0.262748   0.262748\n",
       "diabetes_prevalence                                  0.164286   0.164286\n",
       "hiv_prevalence                                       0.157771   0.157771\n",
       "food_insecurity                                      0.316789   0.316789\n",
       "limited_access_to_healthy_foods                      0.278193   0.278193\n",
       "motor_vehicle_crash_deaths                           0.380622   0.380622\n",
       "insufficient_sleep                                   0.064051   0.064051\n",
       "median_household_income                             -0.360451  -0.360451\n",
       "median_household_income_white                       -0.191894  -0.191894\n",
       "children_eligible_for_free_or_reduced_price_lunch    0.478107   0.478107\n",
       "homeownership                                       -0.116190  -0.116190\n",
       "severe_housing_cost_burden                          -0.014549  -0.014549\n",
       "population                                          -0.070329  -0.070329\n",
       "%_below_18_years_of_age                              0.234523   0.234523\n",
       "%_65_and_older                                      -0.036109  -0.036109\n",
       "%_non_hispanic_african_american                      0.182134   0.182134\n",
       "%_american_indian_and_alaskan_native                 0.252475   0.252475\n",
       "%_asian                                             -0.100629  -0.100629\n",
       "%_native_hawaiian_other_pacific_islander            -0.002188  -0.002188\n",
       "%_hispanic                                           0.438852   0.438852\n",
       "%_not_proficient_in_english                          0.394329   0.394329\n",
       "%_rural                                              0.165596   0.165596\n",
       "uninsured                                            1.000000   1.000000"
      ]
     },
     "execution_count": 304,
     "metadata": {},
     "output_type": "execute_result"
    }
   ],
   "source": [
    "corr = signif_df[col_list + ['uninsured']].corr()\n",
    "corr.uninsured\n"
   ]
  }
 ],
 "metadata": {
  "kernelspec": {
   "display_name": "Python 3",
   "language": "python",
   "name": "python3"
  },
  "language_info": {
   "codemirror_mode": {
    "name": "ipython",
    "version": 3
   },
   "file_extension": ".py",
   "mimetype": "text/x-python",
   "name": "python",
   "nbconvert_exporter": "python",
   "pygments_lexer": "ipython3",
   "version": "3.8.8"
  }
 },
 "nbformat": 4,
 "nbformat_minor": 5
}
