{
 "cells": [
  {
   "cell_type": "code",
   "execution_count": 1,
   "metadata": {},
   "outputs": [],
   "source": [
    "import pandas as pd"
   ]
  },
  {
   "cell_type": "markdown",
   "metadata": {},
   "source": [
    "# Reading in Files"
   ]
  },
  {
   "cell_type": "code",
   "execution_count": 2,
   "metadata": {},
   "outputs": [],
   "source": [
    "acs_data = pd.read_csv(\"Data/acs_2019/acs_1y_data.csv\", skiprows = 1)\n",
    "acs_metadata = pd.read_csv(\"Data/acs_2019/acs_1y_metadata.csv\")"
   ]
  },
  {
   "cell_type": "markdown",
   "metadata": {},
   "source": [
    "# Creating two dataframes: Estimates and Margin of Error"
   ]
  },
  {
   "cell_type": "code",
   "execution_count": 3,
   "metadata": {},
   "outputs": [],
   "source": [
    "estimate_col = ['id','Geographic Area Name']\n",
    "margin_of_error_col = ['id','Geographic Area Name']\n",
    "for column in acs_data.columns:\n",
    "    if 'Estimate' in column:\n",
    "        estimate_col.append(column)\n",
    "    if 'Margin of Error' in column:\n",
    "        margin_of_error_col.append(column)"
   ]
  },
  {
   "cell_type": "code",
   "execution_count": 4,
   "metadata": {},
   "outputs": [],
   "source": [
    "acs_data_estimates = acs_data[estimate_col]"
   ]
  },
  {
   "cell_type": "code",
   "execution_count": 5,
   "metadata": {},
   "outputs": [],
   "source": [
    "acs_data_margin_of_error = acs_data[margin_of_error_col]"
   ]
  },
  {
   "cell_type": "markdown",
   "metadata": {},
   "source": [
    "#### For now we only need the percent uninsured column and number uninsured column. Ignoring all other columns for now."
   ]
  },
  {
   "cell_type": "code",
   "execution_count": 6,
   "metadata": {},
   "outputs": [],
   "source": [
    "col_keep = ['id',\n",
    "            'Geographic Area Name',\n",
    "            'Estimate!!Percent Uninsured!!Civilian noninstitutionalized population',\n",
    "            'Estimate!!Uninsured!!Civilian noninstitutionalized population']"
   ]
  },
  {
   "cell_type": "code",
   "execution_count": 7,
   "metadata": {},
   "outputs": [],
   "source": [
    "acs_data_estimates_uninsured = acs_data_estimates[col_keep]"
   ]
  },
  {
   "cell_type": "code",
   "execution_count": 8,
   "metadata": {},
   "outputs": [],
   "source": [
    "acs_data_estimates_uninsured.columns = ['id',\n",
    "                                 'geo_area',\n",
    "                                 'percent_uninsured',\n",
    "                                 'number_uninsured']"
   ]
  },
  {
   "cell_type": "code",
   "execution_count": 9,
   "metadata": {},
   "outputs": [
    {
     "name": "stderr",
     "output_type": "stream",
     "text": [
      "C:\\Users\\bhatt\\anaconda3\\lib\\site-packages\\pandas\\core\\frame.py:2963: SettingWithCopyWarning: \n",
      "A value is trying to be set on a copy of a slice from a DataFrame.\n",
      "Try using .loc[row_indexer,col_indexer] = value instead\n",
      "\n",
      "See the caveats in the documentation: https://pandas.pydata.org/pandas-docs/stable/user_guide/indexing.html#returning-a-view-versus-a-copy\n",
      "  self[k1] = value[k2]\n"
     ]
    }
   ],
   "source": [
    "acs_data_estimates_uninsured[[\"geo_county\", \"geo_state\"]] = acs_data_estimates_uninsured['geo_area'].str.split(',', 1, expand=True)"
   ]
  },
  {
   "cell_type": "code",
   "execution_count": 10,
   "metadata": {},
   "outputs": [],
   "source": [
    "acs_data_estimates_uninsured.to_csv(\"Data/acs_data_clean.csv\")"
   ]
  }
 ],
 "metadata": {
  "kernelspec": {
   "display_name": "Python 3",
   "language": "python",
   "name": "python3"
  },
  "language_info": {
   "codemirror_mode": {
    "name": "ipython",
    "version": 3
   },
   "file_extension": ".py",
   "mimetype": "text/x-python",
   "name": "python",
   "nbconvert_exporter": "python",
   "pygments_lexer": "ipython3",
   "version": "3.8.3"
  }
 },
 "nbformat": 4,
 "nbformat_minor": 4
}
